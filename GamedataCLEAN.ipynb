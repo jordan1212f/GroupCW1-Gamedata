{
 "cells": [
  {
   "cell_type": "code",
   "execution_count": 2,
   "metadata": {},
   "outputs": [
    {
     "data": {
      "text/plain": [
       "<bound method NDFrame.head of       Unnamed: 0                                    Title  Release Date  \\\n",
       "0              0                               Elden Ring  Feb 25, 2022   \n",
       "1              1                                    Hades  Dec 10, 2019   \n",
       "2              2  The Legend of Zelda: Breath of the Wild  Mar 03, 2017   \n",
       "3              3                                Undertale  Sep 15, 2015   \n",
       "4              4                            Hollow Knight  Feb 24, 2017   \n",
       "...          ...                                      ...           ...   \n",
       "1507        1507             Back to the Future: The Game  Dec 22, 2010   \n",
       "1508        1508                        Team Sonic Racing  May 21, 2019   \n",
       "1509        1509                           Dragon's Dogma  May 22, 2012   \n",
       "1510        1510                          Baldur's Gate 3  Oct 06, 2020   \n",
       "1511        1511                 The LEGO Movie Videogame  Feb 04, 2014   \n",
       "\n",
       "                                                   Team  Rating Times Listed  \\\n",
       "0        ['Bandai Namco Entertainment', 'FromSoftware']     4.5         3.9K   \n",
       "1                                  ['Supergiant Games']     4.3         2.9K   \n",
       "2     ['Nintendo', 'Nintendo EPD Production Group No...     4.4         4.3K   \n",
       "3                                    ['tobyfox', '8-4']     4.2         3.5K   \n",
       "4                                       ['Team Cherry']     4.4           3K   \n",
       "...                                                 ...     ...          ...   \n",
       "1507                                 ['Telltale Games']     3.2           94   \n",
       "1508                           ['Sumo Digital', 'Sega']     2.9          264   \n",
       "1509                                         ['Capcom']     3.7          210   \n",
       "1510                                 ['Larian Studios']     4.1          165   \n",
       "1511                          ['WB Games', 'TT Fusion']     2.8          184   \n",
       "\n",
       "     Number of Reviews                                             Genres  \\\n",
       "0                 3.9K                               ['Adventure', 'RPG']   \n",
       "1                 2.9K           ['Adventure', 'Brawler', 'Indie', 'RPG']   \n",
       "2                 4.3K                               ['Adventure', 'RPG']   \n",
       "3                 3.5K  ['Adventure', 'Indie', 'RPG', 'Turn Based Stra...   \n",
       "4                   3K                 ['Adventure', 'Indie', 'Platform']   \n",
       "...                ...                                                ...   \n",
       "1507                94                   ['Adventure', 'Point-and-Click']   \n",
       "1508               264                               ['Arcade', 'Racing']   \n",
       "1509               210                                 ['Brawler', 'RPG']   \n",
       "1510               165  ['Adventure', 'RPG', 'Strategy', 'Tactical', '...   \n",
       "1511               184                            ['Adventure', 'Puzzle']   \n",
       "\n",
       "                                                Summary  \\\n",
       "0     Elden Ring is a fantasy, action and open world...   \n",
       "1     A rogue-lite hack and slash dungeon crawler in...   \n",
       "2     The Legend of Zelda: Breath of the Wild is the...   \n",
       "3     A small child falls into the Underground, wher...   \n",
       "4     A 2D metroidvania with an emphasis on close co...   \n",
       "...                                                 ...   \n",
       "1507  Back to the Future: The Game is one of Telltal...   \n",
       "1508  Team Sonic Racing combines the best elements o...   \n",
       "1509  Set in a huge open world, Dragon’s Dogma: Dark...   \n",
       "1510  An ancient evil has returned to Baldur's Gate,...   \n",
       "1511  Join Emmet and an unlikely group of resistance...   \n",
       "\n",
       "                                                Reviews Plays Playing  \\\n",
       "0     [\"The first playthrough of elden ring is one o...   17K    3.8K   \n",
       "1     ['convinced this is a roguelike for people who...   21K    3.2K   \n",
       "2     ['This game is the game (that is not CS:GO) th...   30K    2.5K   \n",
       "3     ['soundtrack is tied for #1 with nier automata...   28K     679   \n",
       "4     [\"this games worldbuilding is incredible, with...   21K    2.4K   \n",
       "...                                                 ...   ...     ...   \n",
       "1507  ['Very enjoyable game. The story adds onto the...   763       5   \n",
       "1508  ['jogo morto mas bom', 'not my cup of tea', \"C...  1.5K      49   \n",
       "1509  ['Underrated.', 'A grandes rasgos, es como un ...  1.1K      45   \n",
       "1510  ['Bu türe bu oyunla girmeye çalışmak hataydı s...   269      79   \n",
       "1511  ['Legal', 'Pretty Average Lego Game But It Was...  1.7K      11   \n",
       "\n",
       "     Backlogs Wishlist  \n",
       "0        4.6K     4.8K  \n",
       "1        6.3K     3.6K  \n",
       "2          5K     2.6K  \n",
       "3        4.9K     1.8K  \n",
       "4        8.3K     2.3K  \n",
       "...       ...      ...  \n",
       "1507      223       67  \n",
       "1508      413      107  \n",
       "1509      487      206  \n",
       "1510      388      602  \n",
       "1511      239       73  \n",
       "\n",
       "[1512 rows x 14 columns]>"
      ]
     },
     "execution_count": 2,
     "metadata": {},
     "output_type": "execute_result"
    }
   ],
   "source": [
    "import pandas as pd\n",
    "import numpy as np\n",
    "import matplotlib.pyplot as plt \n",
    "video_games = pd.read_csv(\"C:\\\\Users\\\\Jordan\\\\OneDrive\\\\Desktop\\\\New folder\\\\archive\\\\games.csv\")\n",
    "video_games.shape\n",
    "video_games.head"
   ]
  },
  {
   "cell_type": "code",
   "execution_count": 3,
   "metadata": {},
   "outputs": [
    {
     "data": {
      "text/plain": [
       "Index(['Unnamed: 0', 'Title', 'Release Date', 'Team', 'Rating', 'Times Listed',\n",
       "       'Number of Reviews', 'Genres', 'Summary', 'Reviews', 'Plays', 'Playing',\n",
       "       'Backlogs', 'Wishlist'],\n",
       "      dtype='object')"
      ]
     },
     "execution_count": 3,
     "metadata": {},
     "output_type": "execute_result"
    }
   ],
   "source": [
    "video_games.columns"
   ]
  },
  {
   "cell_type": "markdown",
   "metadata": {},
   "source": [
    "### Column descriptions:\n",
    "* **Unnamed** - unique ID  for each game in the dataset\n",
    "* **Title** - title of the game\n",
    "* **Release** - release date of the game [Month, date, year]\n",
    "* **Team** - publisher of the game e.g. Nintendo\n",
    "* **Rating** - Average rating out of 5 for the game\n",
    "* **Times listed** - Number of users on Backloggd who have listed this game (added to a list of games with particular themes or collections)\n",
    "    * Think of it like a playlist for the game\n",
    "* **Number of reviews** - How many reivews have been posted for this game\n",
    "* **Genres** - Genres the game comes under\n",
    "    * e.g. Action, Platformer, RPG, etc.\n",
    "* **Plays** - Number of users who have played this game (finshed)\n",
    "* **Playing** - number of users who are currently playing this game (not finished)\n",
    "* **Backlogs** - Those who can play the game but haven't started yet\n",
    "* **Wishlist** - Those who wish to play the game by cannot yet.\n",
    "* **Reviews** - A user review of the game \n",
    "* **Summary** - A summary of the game"
   ]
  },
  {
   "cell_type": "markdown",
   "metadata": {},
   "source": [
    "Whilst inspecting the dataset we found that the reviews and summary columns were irrelevant and difficult to work with given the questions we chose to investigate as a part of our analysis. They are both too text heavy and also their are multiple entries written in foreign languages."
   ]
  },
  {
   "cell_type": "code",
   "execution_count": 11,
   "metadata": {},
   "outputs": [
    {
     "name": "stdout",
     "output_type": "stream",
     "text": [
      "<class 'pandas.core.frame.DataFrame'>\n",
      "RangeIndex: 1512 entries, 0 to 1511\n",
      "Data columns (total 14 columns):\n",
      " #   Column             Non-Null Count  Dtype  \n",
      "---  ------             --------------  -----  \n",
      " 0   Unnamed: 0         1512 non-null   int64  \n",
      " 1   Title              1512 non-null   object \n",
      " 2   Release Date       1512 non-null   object \n",
      " 3   Team               1511 non-null   object \n",
      " 4   Rating             1499 non-null   float64\n",
      " 5   Times Listed       1512 non-null   object \n",
      " 6   Number of Reviews  1512 non-null   object \n",
      " 7   Genres             1512 non-null   object \n",
      " 8   Summary            1511 non-null   object \n",
      " 9   Reviews            1512 non-null   object \n",
      " 10  Plays              1512 non-null   object \n",
      " 11  Playing            1512 non-null   object \n",
      " 12  Backlogs           1512 non-null   object \n",
      " 13  Wishlist           1512 non-null   object \n",
      "dtypes: float64(1), int64(1), object(12)\n",
      "memory usage: 165.5+ KB\n"
     ]
    }
   ],
   "source": [
    "video_games.info()"
   ]
  },
  {
   "cell_type": "code",
   "execution_count": 12,
   "metadata": {},
   "outputs": [
    {
     "data": {
      "text/plain": [
       "(1512, 14)"
      ]
     },
     "execution_count": 12,
     "metadata": {},
     "output_type": "execute_result"
    }
   ],
   "source": [
    "video_games.shape"
   ]
  },
  {
   "cell_type": "markdown",
   "metadata": {},
   "source": [
    "14 columns\n",
    "* 12 object datatype \n",
    "* 1 float datatype (Ratings)\n",
    "* 1 int datatype (Index column)\n",
    "\n",
    "We identify an issues with our data which is that a majority of the object columns contain data which represents numbers in the 1000s as using decimal and K e.g. 4700 is 4.7K thus we worked a solution to converting these data types later on in our analysis."
   ]
  },
  {
   "cell_type": "markdown",
   "metadata": {},
   "source": [
    "When looking at the dataset in its CSV File form it seemed that two of the columns appeared to carry identical values. These were \"Times Listed\" and \"Number of Reviews\" I wrote a function below that uses the `.equals()` paired with an `if statement` to verify if this observation is correct"
   ]
  },
  {
   "cell_type": "code",
   "execution_count": 8,
   "metadata": {},
   "outputs": [
    {
     "name": "stdout",
     "output_type": "stream",
     "text": [
      "Times Listed and Number of Reviews have the same values\n",
      "Times Listed and Title do not have the same values\n"
     ]
    }
   ],
   "source": [
    "def check_equal_values(df, column1, column2): \n",
    "        if df[column1].equals(df[column2]):\n",
    "            print(f'{column1} and {column2} have the same values')\n",
    "        else:\n",
    "            print(f'{column1} and {column2} do not have the same values')\n",
    "\n",
    "check_equal_values(video_games, 'Times Listed', 'Number of Reviews')\n",
    "check_equal_values(video_games, 'Times Listed', 'Title')\n",
    "#I ran the function twice to confirm that code was working as intended."
   ]
  },
  {
   "cell_type": "markdown",
   "metadata": {},
   "source": [
    "A conclusion we potentially made from this result is that a user may have to write a review for a game before they can list the game."
   ]
  },
  {
   "cell_type": "code",
   "execution_count": 14,
   "metadata": {},
   "outputs": [
    {
     "data": {
      "text/plain": [
       "<bound method NDFrame.head of                                         Title  Release Date  \\\n",
       "0                                  Elden Ring  Feb 25, 2022   \n",
       "1                                       Hades  Dec 10, 2019   \n",
       "2     The Legend of Zelda: Breath of the Wild  Mar 03, 2017   \n",
       "3                                   Undertale  Sep 15, 2015   \n",
       "4                               Hollow Knight  Feb 24, 2017   \n",
       "...                                       ...           ...   \n",
       "1507             Back to the Future: The Game  Dec 22, 2010   \n",
       "1508                        Team Sonic Racing  May 21, 2019   \n",
       "1509                           Dragon's Dogma  May 22, 2012   \n",
       "1510                          Baldur's Gate 3  Oct 06, 2020   \n",
       "1511                 The LEGO Movie Videogame  Feb 04, 2014   \n",
       "\n",
       "                                                   Team  Rating Times Listed  \\\n",
       "0        ['Bandai Namco Entertainment', 'FromSoftware']     4.5         3.9K   \n",
       "1                                  ['Supergiant Games']     4.3         2.9K   \n",
       "2     ['Nintendo', 'Nintendo EPD Production Group No...     4.4         4.3K   \n",
       "3                                    ['tobyfox', '8-4']     4.2         3.5K   \n",
       "4                                       ['Team Cherry']     4.4           3K   \n",
       "...                                                 ...     ...          ...   \n",
       "1507                                 ['Telltale Games']     3.2           94   \n",
       "1508                           ['Sumo Digital', 'Sega']     2.9          264   \n",
       "1509                                         ['Capcom']     3.7          210   \n",
       "1510                                 ['Larian Studios']     4.1          165   \n",
       "1511                          ['WB Games', 'TT Fusion']     2.8          184   \n",
       "\n",
       "     Number of Reviews                                             Genres  \\\n",
       "0                 3.9K                               ['Adventure', 'RPG']   \n",
       "1                 2.9K           ['Adventure', 'Brawler', 'Indie', 'RPG']   \n",
       "2                 4.3K                               ['Adventure', 'RPG']   \n",
       "3                 3.5K  ['Adventure', 'Indie', 'RPG', 'Turn Based Stra...   \n",
       "4                   3K                 ['Adventure', 'Indie', 'Platform']   \n",
       "...                ...                                                ...   \n",
       "1507                94                   ['Adventure', 'Point-and-Click']   \n",
       "1508               264                               ['Arcade', 'Racing']   \n",
       "1509               210                                 ['Brawler', 'RPG']   \n",
       "1510               165  ['Adventure', 'RPG', 'Strategy', 'Tactical', '...   \n",
       "1511               184                            ['Adventure', 'Puzzle']   \n",
       "\n",
       "     Plays Playing Backlogs Wishlist  \n",
       "0      17K    3.8K     4.6K     4.8K  \n",
       "1      21K    3.2K     6.3K     3.6K  \n",
       "2      30K    2.5K       5K     2.6K  \n",
       "3      28K     679     4.9K     1.8K  \n",
       "4      21K    2.4K     8.3K     2.3K  \n",
       "...    ...     ...      ...      ...  \n",
       "1507   763       5      223       67  \n",
       "1508  1.5K      49      413      107  \n",
       "1509  1.1K      45      487      206  \n",
       "1510   269      79      388      602  \n",
       "1511  1.7K      11      239       73  \n",
       "\n",
       "[1512 rows x 11 columns]>"
      ]
     },
     "execution_count": 14,
     "metadata": {},
     "output_type": "execute_result"
    }
   ],
   "source": [
    "dfvg_1 = video_games.drop(columns=['Unnamed: 0', 'Summary', 'Reviews'])\n",
    "dfvg_1.shape\n",
    "dfvg_1.head"
   ]
  },
  {
   "cell_type": "markdown",
   "metadata": {},
   "source": [
    "We then dropped the columns discussed earlier as being irrelevant to our analysis.\n",
    "\n",
    "* Summary and Reviews are single text entries describing a game, sometimes the entries are written in different langauges, contain spelling mistakes and vary too greatly in length and detail to derive in any consistent detail from.\n",
    "\n",
    "* We also dropped the unnamed column as it wasn't serving any purpose either\n"
   ]
  },
  {
   "cell_type": "code",
   "execution_count": 16,
   "metadata": {},
   "outputs": [
    {
     "name": "stdout",
     "output_type": "stream",
     "text": [
      "Title                0\n",
      "Release Date         0\n",
      "Team                 0\n",
      "Rating               0\n",
      "Times Listed         0\n",
      "Number of Reviews    0\n",
      "Genres               0\n",
      "Plays                0\n",
      "Playing              0\n",
      "Backlogs             0\n",
      "Wishlist             0\n",
      "dtype: int64\n"
     ]
    }
   ],
   "source": [
    "#checking for empty values\n",
    "empty_values = (dfvg_1 == ' ').sum()\n",
    "print(empty_values)"
   ]
  },
  {
   "cell_type": "code",
   "execution_count": 18,
   "metadata": {},
   "outputs": [
    {
     "data": {
      "text/plain": [
       "Title                 0\n",
       "Release Date          0\n",
       "Team                  1\n",
       "Rating               13\n",
       "Times Listed          0\n",
       "Number of Reviews     0\n",
       "Genres                0\n",
       "Plays                 0\n",
       "Playing               0\n",
       "Backlogs              0\n",
       "Wishlist              0\n",
       "dtype: int64"
      ]
     },
     "execution_count": 18,
     "metadata": {},
     "output_type": "execute_result"
    }
   ],
   "source": [
    "#checking for NaN values\n",
    "dfvg_1.isna().sum()"
   ]
  },
  {
   "cell_type": "code",
   "execution_count": 19,
   "metadata": {},
   "outputs": [
    {
     "data": {
      "text/html": [
       "<div>\n",
       "<style scoped>\n",
       "    .dataframe tbody tr th:only-of-type {\n",
       "        vertical-align: middle;\n",
       "    }\n",
       "\n",
       "    .dataframe tbody tr th {\n",
       "        vertical-align: top;\n",
       "    }\n",
       "\n",
       "    .dataframe thead th {\n",
       "        text-align: right;\n",
       "    }\n",
       "</style>\n",
       "<table border=\"1\" class=\"dataframe\">\n",
       "  <thead>\n",
       "    <tr style=\"text-align: right;\">\n",
       "      <th></th>\n",
       "      <th>Title</th>\n",
       "      <th>Release Date</th>\n",
       "      <th>Team</th>\n",
       "      <th>Rating</th>\n",
       "      <th>Times Listed</th>\n",
       "      <th>Number of Reviews</th>\n",
       "      <th>Genres</th>\n",
       "      <th>Plays</th>\n",
       "      <th>Playing</th>\n",
       "      <th>Backlogs</th>\n",
       "      <th>Wishlist</th>\n",
       "    </tr>\n",
       "  </thead>\n",
       "  <tbody>\n",
       "    <tr>\n",
       "      <th>326</th>\n",
       "      <td>Elden Ring</td>\n",
       "      <td>Feb 25, 2022</td>\n",
       "      <td>['Bandai Namco Entertainment', 'FromSoftware']</td>\n",
       "      <td>4.5</td>\n",
       "      <td>3.9K</td>\n",
       "      <td>3.9K</td>\n",
       "      <td>['Adventure', 'RPG']</td>\n",
       "      <td>17K</td>\n",
       "      <td>3.8K</td>\n",
       "      <td>4.6K</td>\n",
       "      <td>4.8K</td>\n",
       "    </tr>\n",
       "    <tr>\n",
       "      <th>327</th>\n",
       "      <td>Hades</td>\n",
       "      <td>Dec 10, 2019</td>\n",
       "      <td>['Supergiant Games']</td>\n",
       "      <td>4.3</td>\n",
       "      <td>2.9K</td>\n",
       "      <td>2.9K</td>\n",
       "      <td>['Adventure', 'Brawler', 'Indie', 'RPG']</td>\n",
       "      <td>21K</td>\n",
       "      <td>3.2K</td>\n",
       "      <td>6.3K</td>\n",
       "      <td>3.6K</td>\n",
       "    </tr>\n",
       "    <tr>\n",
       "      <th>328</th>\n",
       "      <td>The Legend of Zelda: Breath of the Wild</td>\n",
       "      <td>Mar 03, 2017</td>\n",
       "      <td>['Nintendo', 'Nintendo EPD Production Group No...</td>\n",
       "      <td>4.4</td>\n",
       "      <td>4.3K</td>\n",
       "      <td>4.3K</td>\n",
       "      <td>['Adventure', 'RPG']</td>\n",
       "      <td>30K</td>\n",
       "      <td>2.5K</td>\n",
       "      <td>5K</td>\n",
       "      <td>2.6K</td>\n",
       "    </tr>\n",
       "    <tr>\n",
       "      <th>329</th>\n",
       "      <td>Undertale</td>\n",
       "      <td>Sep 15, 2015</td>\n",
       "      <td>['tobyfox', '8-4']</td>\n",
       "      <td>4.2</td>\n",
       "      <td>3.5K</td>\n",
       "      <td>3.5K</td>\n",
       "      <td>['Adventure', 'Indie', 'RPG', 'Turn Based Stra...</td>\n",
       "      <td>28K</td>\n",
       "      <td>679</td>\n",
       "      <td>4.9K</td>\n",
       "      <td>1.8K</td>\n",
       "    </tr>\n",
       "    <tr>\n",
       "      <th>330</th>\n",
       "      <td>Hollow Knight</td>\n",
       "      <td>Feb 24, 2017</td>\n",
       "      <td>['Team Cherry']</td>\n",
       "      <td>4.4</td>\n",
       "      <td>3K</td>\n",
       "      <td>3K</td>\n",
       "      <td>['Adventure', 'Indie', 'Platform']</td>\n",
       "      <td>21K</td>\n",
       "      <td>2.4K</td>\n",
       "      <td>8.3K</td>\n",
       "      <td>2.3K</td>\n",
       "    </tr>\n",
       "    <tr>\n",
       "      <th>...</th>\n",
       "      <td>...</td>\n",
       "      <td>...</td>\n",
       "      <td>...</td>\n",
       "      <td>...</td>\n",
       "      <td>...</td>\n",
       "      <td>...</td>\n",
       "      <td>...</td>\n",
       "      <td>...</td>\n",
       "      <td>...</td>\n",
       "      <td>...</td>\n",
       "      <td>...</td>\n",
       "    </tr>\n",
       "    <tr>\n",
       "      <th>1268</th>\n",
       "      <td>Bloodstained: Curse of the Moon</td>\n",
       "      <td>May 23, 2018</td>\n",
       "      <td>['Inti Creates']</td>\n",
       "      <td>3.6</td>\n",
       "      <td>341</td>\n",
       "      <td>341</td>\n",
       "      <td>['Adventure', 'Indie', 'Platform']</td>\n",
       "      <td>2.3K</td>\n",
       "      <td>41</td>\n",
       "      <td>800</td>\n",
       "      <td>397</td>\n",
       "    </tr>\n",
       "    <tr>\n",
       "      <th>1269</th>\n",
       "      <td>Final Fantasy XIII-2</td>\n",
       "      <td>Dec 15, 2011</td>\n",
       "      <td>['Square Enix']</td>\n",
       "      <td>3.3</td>\n",
       "      <td>482</td>\n",
       "      <td>482</td>\n",
       "      <td>['Adventure', 'RPG']</td>\n",
       "      <td>2.3K</td>\n",
       "      <td>58</td>\n",
       "      <td>1.4K</td>\n",
       "      <td>449</td>\n",
       "    </tr>\n",
       "    <tr>\n",
       "      <th>1270</th>\n",
       "      <td>Agar.io</td>\n",
       "      <td>Apr 28, 2015</td>\n",
       "      <td>['Miniclip.com', 'Matheus Valadares']</td>\n",
       "      <td>2.2</td>\n",
       "      <td>81</td>\n",
       "      <td>81</td>\n",
       "      <td>['Indie', 'Strategy']</td>\n",
       "      <td>4.4K</td>\n",
       "      <td>8</td>\n",
       "      <td>40</td>\n",
       "      <td>12</td>\n",
       "    </tr>\n",
       "    <tr>\n",
       "      <th>1271</th>\n",
       "      <td>Fatal Frame II: Crimson Butterfly</td>\n",
       "      <td>Nov 27, 2003</td>\n",
       "      <td>['Tecmo Co., Ltd.', 'Ubisoft Entertainment']</td>\n",
       "      <td>4.2</td>\n",
       "      <td>398</td>\n",
       "      <td>398</td>\n",
       "      <td>['Adventure']</td>\n",
       "      <td>1K</td>\n",
       "      <td>38</td>\n",
       "      <td>690</td>\n",
       "      <td>513</td>\n",
       "    </tr>\n",
       "    <tr>\n",
       "      <th>1496</th>\n",
       "      <td>FIFA 13</td>\n",
       "      <td>Sep 25, 2012</td>\n",
       "      <td>['Electronic Arts', 'EA Canada']</td>\n",
       "      <td>3.2</td>\n",
       "      <td>62</td>\n",
       "      <td>62</td>\n",
       "      <td>['Simulator', 'Sport']</td>\n",
       "      <td>1.6K</td>\n",
       "      <td>2</td>\n",
       "      <td>34</td>\n",
       "      <td>12</td>\n",
       "    </tr>\n",
       "  </tbody>\n",
       "</table>\n",
       "<p>392 rows × 11 columns</p>\n",
       "</div>"
      ],
      "text/plain": [
       "                                        Title  Release Date  \\\n",
       "326                                Elden Ring  Feb 25, 2022   \n",
       "327                                     Hades  Dec 10, 2019   \n",
       "328   The Legend of Zelda: Breath of the Wild  Mar 03, 2017   \n",
       "329                                 Undertale  Sep 15, 2015   \n",
       "330                             Hollow Knight  Feb 24, 2017   \n",
       "...                                       ...           ...   \n",
       "1268          Bloodstained: Curse of the Moon  May 23, 2018   \n",
       "1269                     Final Fantasy XIII-2  Dec 15, 2011   \n",
       "1270                                  Agar.io  Apr 28, 2015   \n",
       "1271        Fatal Frame II: Crimson Butterfly  Nov 27, 2003   \n",
       "1496                                  FIFA 13  Sep 25, 2012   \n",
       "\n",
       "                                                   Team  Rating Times Listed  \\\n",
       "326      ['Bandai Namco Entertainment', 'FromSoftware']     4.5         3.9K   \n",
       "327                                ['Supergiant Games']     4.3         2.9K   \n",
       "328   ['Nintendo', 'Nintendo EPD Production Group No...     4.4         4.3K   \n",
       "329                                  ['tobyfox', '8-4']     4.2         3.5K   \n",
       "330                                     ['Team Cherry']     4.4           3K   \n",
       "...                                                 ...     ...          ...   \n",
       "1268                                   ['Inti Creates']     3.6          341   \n",
       "1269                                    ['Square Enix']     3.3          482   \n",
       "1270              ['Miniclip.com', 'Matheus Valadares']     2.2           81   \n",
       "1271       ['Tecmo Co., Ltd.', 'Ubisoft Entertainment']     4.2          398   \n",
       "1496                   ['Electronic Arts', 'EA Canada']     3.2           62   \n",
       "\n",
       "     Number of Reviews                                             Genres  \\\n",
       "326               3.9K                               ['Adventure', 'RPG']   \n",
       "327               2.9K           ['Adventure', 'Brawler', 'Indie', 'RPG']   \n",
       "328               4.3K                               ['Adventure', 'RPG']   \n",
       "329               3.5K  ['Adventure', 'Indie', 'RPG', 'Turn Based Stra...   \n",
       "330                 3K                 ['Adventure', 'Indie', 'Platform']   \n",
       "...                ...                                                ...   \n",
       "1268               341                 ['Adventure', 'Indie', 'Platform']   \n",
       "1269               482                               ['Adventure', 'RPG']   \n",
       "1270                81                              ['Indie', 'Strategy']   \n",
       "1271               398                                      ['Adventure']   \n",
       "1496                62                             ['Simulator', 'Sport']   \n",
       "\n",
       "     Plays Playing Backlogs Wishlist  \n",
       "326    17K    3.8K     4.6K     4.8K  \n",
       "327    21K    3.2K     6.3K     3.6K  \n",
       "328    30K    2.5K       5K     2.6K  \n",
       "329    28K     679     4.9K     1.8K  \n",
       "330    21K    2.4K     8.3K     2.3K  \n",
       "...    ...     ...      ...      ...  \n",
       "1268  2.3K      41      800      397  \n",
       "1269  2.3K      58     1.4K      449  \n",
       "1270  4.4K       8       40       12  \n",
       "1271    1K      38      690      513  \n",
       "1496  1.6K       2       34       12  \n",
       "\n",
       "[392 rows x 11 columns]"
      ]
     },
     "execution_count": 19,
     "metadata": {},
     "output_type": "execute_result"
    }
   ],
   "source": [
    "#checking for duplicated values\n",
    "dupes = dfvg_1[dfvg_1.duplicated()]\n",
    "dupes"
   ]
  },
  {
   "cell_type": "code",
   "execution_count": 20,
   "metadata": {},
   "outputs": [
    {
     "data": {
      "text/plain": [
       "(1512, 11)"
      ]
     },
     "execution_count": 20,
     "metadata": {},
     "output_type": "execute_result"
    }
   ],
   "source": [
    "dfvg1 = dfvg_1.drop_duplicates(keep='first')\n",
    "dfvg_1.shape"
   ]
  },
  {
   "cell_type": "markdown",
   "metadata": {},
   "source": [
    "I used the drop function here as it's more efficient to drop dupes by row instead of checking each column individually for unique values where its very common to have duplicated values in the numeric columns."
   ]
  },
  {
   "cell_type": "code",
   "execution_count": 22,
   "metadata": {},
   "outputs": [
    {
     "data": {
      "text/plain": [
       "Title                False\n",
       "Release Date         False\n",
       "Team                  True\n",
       "Rating                True\n",
       "Times Listed         False\n",
       "Number of Reviews    False\n",
       "Genres               False\n",
       "Plays                False\n",
       "Playing              False\n",
       "Backlogs             False\n",
       "Wishlist             False\n",
       "dtype: bool"
      ]
     },
     "execution_count": 22,
     "metadata": {},
     "output_type": "execute_result"
    }
   ],
   "source": [
    "dfvg_1.isna().any()\n",
    "#checking for which columns actually contain NA values."
   ]
  },
  {
   "cell_type": "code",
   "execution_count": 23,
   "metadata": {},
   "outputs": [
    {
     "data": {
      "text/plain": [
       "Title                 0\n",
       "Release Date          0\n",
       "Team                  1\n",
       "Rating               13\n",
       "Times Listed          0\n",
       "Number of Reviews     0\n",
       "Genres                0\n",
       "Plays                 0\n",
       "Playing               0\n",
       "Backlogs              0\n",
       "Wishlist              0\n",
       "dtype: int64"
      ]
     },
     "execution_count": 23,
     "metadata": {},
     "output_type": "execute_result"
    }
   ],
   "source": [
    "dfvg_1.isna().sum()"
   ]
  },
  {
   "cell_type": "markdown",
   "metadata": {},
   "source": [
    "We have 1 game without a team and 13 games without ratings."
   ]
  },
  {
   "cell_type": "code",
   "execution_count": 24,
   "metadata": {},
   "outputs": [
    {
     "data": {
      "text/html": [
       "<div>\n",
       "<style scoped>\n",
       "    .dataframe tbody tr th:only-of-type {\n",
       "        vertical-align: middle;\n",
       "    }\n",
       "\n",
       "    .dataframe tbody tr th {\n",
       "        vertical-align: top;\n",
       "    }\n",
       "\n",
       "    .dataframe thead th {\n",
       "        text-align: right;\n",
       "    }\n",
       "</style>\n",
       "<table border=\"1\" class=\"dataframe\">\n",
       "  <thead>\n",
       "    <tr style=\"text-align: right;\">\n",
       "      <th></th>\n",
       "      <th>Title</th>\n",
       "      <th>Release Date</th>\n",
       "      <th>Team</th>\n",
       "      <th>Rating</th>\n",
       "      <th>Times Listed</th>\n",
       "      <th>Number of Reviews</th>\n",
       "      <th>Genres</th>\n",
       "      <th>Plays</th>\n",
       "      <th>Playing</th>\n",
       "      <th>Backlogs</th>\n",
       "      <th>Wishlist</th>\n",
       "    </tr>\n",
       "  </thead>\n",
       "  <tbody>\n",
       "    <tr>\n",
       "      <th>1245</th>\n",
       "      <td>NEET Girl Date Night</td>\n",
       "      <td>Oct 21, 2022</td>\n",
       "      <td>NaN</td>\n",
       "      <td>2.7</td>\n",
       "      <td>21</td>\n",
       "      <td>21</td>\n",
       "      <td>['Visual Novel']</td>\n",
       "      <td>106</td>\n",
       "      <td>1</td>\n",
       "      <td>44</td>\n",
       "      <td>42</td>\n",
       "    </tr>\n",
       "  </tbody>\n",
       "</table>\n",
       "</div>"
      ],
      "text/plain": [
       "                     Title  Release Date Team  Rating Times Listed  \\\n",
       "1245  NEET Girl Date Night  Oct 21, 2022  NaN     2.7           21   \n",
       "\n",
       "     Number of Reviews            Genres Plays Playing Backlogs Wishlist  \n",
       "1245                21  ['Visual Novel']   106       1       44       42  "
      ]
     },
     "execution_count": 24,
     "metadata": {},
     "output_type": "execute_result"
    }
   ],
   "source": [
    "dfvg_1[dfvg_1['Team'].isnull()]"
   ]
  },
  {
   "cell_type": "markdown",
   "metadata": {},
   "source": [
    "The above is a small indie game made by a single developer. We decide to class this game as \"Independent developer\" in our team column"
   ]
  },
  {
   "cell_type": "code",
   "execution_count": 25,
   "metadata": {},
   "outputs": [],
   "source": [
    "dfvg_1['Team'].fillna('Independent developer', inplace = True)"
   ]
  },
  {
   "cell_type": "code",
   "execution_count": 27,
   "metadata": {},
   "outputs": [
    {
     "data": {
      "text/html": [
       "<div>\n",
       "<style scoped>\n",
       "    .dataframe tbody tr th:only-of-type {\n",
       "        vertical-align: middle;\n",
       "    }\n",
       "\n",
       "    .dataframe tbody tr th {\n",
       "        vertical-align: top;\n",
       "    }\n",
       "\n",
       "    .dataframe thead th {\n",
       "        text-align: right;\n",
       "    }\n",
       "</style>\n",
       "<table border=\"1\" class=\"dataframe\">\n",
       "  <thead>\n",
       "    <tr style=\"text-align: right;\">\n",
       "      <th></th>\n",
       "      <th>Title</th>\n",
       "      <th>Release Date</th>\n",
       "      <th>Team</th>\n",
       "      <th>Rating</th>\n",
       "      <th>Times Listed</th>\n",
       "      <th>Number of Reviews</th>\n",
       "      <th>Genres</th>\n",
       "      <th>Plays</th>\n",
       "      <th>Playing</th>\n",
       "      <th>Backlogs</th>\n",
       "      <th>Wishlist</th>\n",
       "    </tr>\n",
       "  </thead>\n",
       "  <tbody>\n",
       "    <tr>\n",
       "      <th>587</th>\n",
       "      <td>Final Fantasy XVI</td>\n",
       "      <td>Jun 22, 2023</td>\n",
       "      <td>['Square Enix', 'Square Enix Creative Business...</td>\n",
       "      <td>NaN</td>\n",
       "      <td>422</td>\n",
       "      <td>422</td>\n",
       "      <td>['RPG']</td>\n",
       "      <td>37</td>\n",
       "      <td>10</td>\n",
       "      <td>732</td>\n",
       "      <td>2.4K</td>\n",
       "    </tr>\n",
       "    <tr>\n",
       "      <th>649</th>\n",
       "      <td>Death Stranding 2</td>\n",
       "      <td>releases on TBD</td>\n",
       "      <td>['Kojima Productions']</td>\n",
       "      <td>NaN</td>\n",
       "      <td>105</td>\n",
       "      <td>105</td>\n",
       "      <td>['Adventure', 'Shooter']</td>\n",
       "      <td>3</td>\n",
       "      <td>0</td>\n",
       "      <td>209</td>\n",
       "      <td>644</td>\n",
       "    </tr>\n",
       "    <tr>\n",
       "      <th>713</th>\n",
       "      <td>Final Fantasy VII Rebirth</td>\n",
       "      <td>Dec 31, 2023</td>\n",
       "      <td>['Square Enix']</td>\n",
       "      <td>NaN</td>\n",
       "      <td>192</td>\n",
       "      <td>192</td>\n",
       "      <td>[]</td>\n",
       "      <td>20</td>\n",
       "      <td>3</td>\n",
       "      <td>354</td>\n",
       "      <td>1.1K</td>\n",
       "    </tr>\n",
       "    <tr>\n",
       "      <th>719</th>\n",
       "      <td>Lies of P</td>\n",
       "      <td>Aug 01, 2023</td>\n",
       "      <td>['NEOWIZ', 'Round8 Studio']</td>\n",
       "      <td>NaN</td>\n",
       "      <td>175</td>\n",
       "      <td>175</td>\n",
       "      <td>['RPG']</td>\n",
       "      <td>5</td>\n",
       "      <td>0</td>\n",
       "      <td>260</td>\n",
       "      <td>939</td>\n",
       "    </tr>\n",
       "    <tr>\n",
       "      <th>726</th>\n",
       "      <td>Judas</td>\n",
       "      <td>Mar 31, 2025</td>\n",
       "      <td>['Ghost Story Games']</td>\n",
       "      <td>NaN</td>\n",
       "      <td>90</td>\n",
       "      <td>90</td>\n",
       "      <td>['Adventure', 'Shooter']</td>\n",
       "      <td>1</td>\n",
       "      <td>0</td>\n",
       "      <td>92</td>\n",
       "      <td>437</td>\n",
       "    </tr>\n",
       "    <tr>\n",
       "      <th>746</th>\n",
       "      <td>Like a Dragon Gaiden: The Man Who Erased His Name</td>\n",
       "      <td>Dec 31, 2023</td>\n",
       "      <td>['Ryū Ga Gotoku Studios', 'Sega']</td>\n",
       "      <td>NaN</td>\n",
       "      <td>118</td>\n",
       "      <td>118</td>\n",
       "      <td>['Adventure', 'Brawler', 'RPG']</td>\n",
       "      <td>2</td>\n",
       "      <td>1</td>\n",
       "      <td>145</td>\n",
       "      <td>588</td>\n",
       "    </tr>\n",
       "    <tr>\n",
       "      <th>972</th>\n",
       "      <td>The Legend of Zelda: Tears of the Kingdom</td>\n",
       "      <td>May 12, 2023</td>\n",
       "      <td>['Nintendo', 'Nintendo EPD Production Group No...</td>\n",
       "      <td>NaN</td>\n",
       "      <td>581</td>\n",
       "      <td>581</td>\n",
       "      <td>['Adventure', 'RPG']</td>\n",
       "      <td>72</td>\n",
       "      <td>6</td>\n",
       "      <td>1.6K</td>\n",
       "      <td>5.4K</td>\n",
       "    </tr>\n",
       "    <tr>\n",
       "      <th>1130</th>\n",
       "      <td>Star Wars Jedi: Survivor</td>\n",
       "      <td>Apr 28, 2023</td>\n",
       "      <td>['Respawn Entertainment', 'Electronic Arts']</td>\n",
       "      <td>NaN</td>\n",
       "      <td>250</td>\n",
       "      <td>250</td>\n",
       "      <td>['Adventure']</td>\n",
       "      <td>13</td>\n",
       "      <td>2</td>\n",
       "      <td>367</td>\n",
       "      <td>1.4K</td>\n",
       "    </tr>\n",
       "    <tr>\n",
       "      <th>1160</th>\n",
       "      <td>We Love Katamari Reroll + Royal Reverie</td>\n",
       "      <td>Jun 02, 2023</td>\n",
       "      <td>['Bandai Namco Entertainment', 'MONKEYCRAFT Co...</td>\n",
       "      <td>NaN</td>\n",
       "      <td>51</td>\n",
       "      <td>51</td>\n",
       "      <td>['Adventure', 'Puzzle']</td>\n",
       "      <td>3</td>\n",
       "      <td>0</td>\n",
       "      <td>74</td>\n",
       "      <td>291</td>\n",
       "    </tr>\n",
       "    <tr>\n",
       "      <th>1202</th>\n",
       "      <td>Earthblade</td>\n",
       "      <td>Dec 31, 2024</td>\n",
       "      <td>['Extremely OK Games']</td>\n",
       "      <td>NaN</td>\n",
       "      <td>83</td>\n",
       "      <td>83</td>\n",
       "      <td>['Adventure', 'Indie', 'RPG']</td>\n",
       "      <td>0</td>\n",
       "      <td>1</td>\n",
       "      <td>103</td>\n",
       "      <td>529</td>\n",
       "    </tr>\n",
       "    <tr>\n",
       "      <th>1305</th>\n",
       "      <td>Diablo IV</td>\n",
       "      <td>Jun 06, 2023</td>\n",
       "      <td>['Blizzard Entertainment']</td>\n",
       "      <td>NaN</td>\n",
       "      <td>148</td>\n",
       "      <td>148</td>\n",
       "      <td>['Brawler', 'RPG']</td>\n",
       "      <td>19</td>\n",
       "      <td>10</td>\n",
       "      <td>179</td>\n",
       "      <td>677</td>\n",
       "    </tr>\n",
       "    <tr>\n",
       "      <th>1341</th>\n",
       "      <td>Pac-Man in a Tin</td>\n",
       "      <td>Mar 22, 2023</td>\n",
       "      <td>['Fizz Creations']</td>\n",
       "      <td>NaN</td>\n",
       "      <td>0</td>\n",
       "      <td>0</td>\n",
       "      <td>['Arcade']</td>\n",
       "      <td>1</td>\n",
       "      <td>0</td>\n",
       "      <td>1</td>\n",
       "      <td>2</td>\n",
       "    </tr>\n",
       "    <tr>\n",
       "      <th>1349</th>\n",
       "      <td>Pokémon Añil</td>\n",
       "      <td>Mar 23, 2023</td>\n",
       "      <td>['Eric Lost']</td>\n",
       "      <td>NaN</td>\n",
       "      <td>2</td>\n",
       "      <td>2</td>\n",
       "      <td>['RPG']</td>\n",
       "      <td>1</td>\n",
       "      <td>0</td>\n",
       "      <td>1</td>\n",
       "      <td>7</td>\n",
       "    </tr>\n",
       "  </tbody>\n",
       "</table>\n",
       "</div>"
      ],
      "text/plain": [
       "                                                  Title     Release Date  \\\n",
       "587                                   Final Fantasy XVI     Jun 22, 2023   \n",
       "649                                   Death Stranding 2  releases on TBD   \n",
       "713                           Final Fantasy VII Rebirth     Dec 31, 2023   \n",
       "719                                           Lies of P     Aug 01, 2023   \n",
       "726                                               Judas     Mar 31, 2025   \n",
       "746   Like a Dragon Gaiden: The Man Who Erased His Name     Dec 31, 2023   \n",
       "972           The Legend of Zelda: Tears of the Kingdom     May 12, 2023   \n",
       "1130                           Star Wars Jedi: Survivor     Apr 28, 2023   \n",
       "1160            We Love Katamari Reroll + Royal Reverie     Jun 02, 2023   \n",
       "1202                                         Earthblade     Dec 31, 2024   \n",
       "1305                                          Diablo IV     Jun 06, 2023   \n",
       "1341                                   Pac-Man in a Tin     Mar 22, 2023   \n",
       "1349                                       Pokémon Añil     Mar 23, 2023   \n",
       "\n",
       "                                                   Team  Rating Times Listed  \\\n",
       "587   ['Square Enix', 'Square Enix Creative Business...     NaN          422   \n",
       "649                              ['Kojima Productions']     NaN          105   \n",
       "713                                     ['Square Enix']     NaN          192   \n",
       "719                         ['NEOWIZ', 'Round8 Studio']     NaN          175   \n",
       "726                               ['Ghost Story Games']     NaN           90   \n",
       "746                   ['Ryū Ga Gotoku Studios', 'Sega']     NaN          118   \n",
       "972   ['Nintendo', 'Nintendo EPD Production Group No...     NaN          581   \n",
       "1130       ['Respawn Entertainment', 'Electronic Arts']     NaN          250   \n",
       "1160  ['Bandai Namco Entertainment', 'MONKEYCRAFT Co...     NaN           51   \n",
       "1202                             ['Extremely OK Games']     NaN           83   \n",
       "1305                         ['Blizzard Entertainment']     NaN          148   \n",
       "1341                                 ['Fizz Creations']     NaN            0   \n",
       "1349                                      ['Eric Lost']     NaN            2   \n",
       "\n",
       "     Number of Reviews                           Genres Plays Playing  \\\n",
       "587                422                          ['RPG']    37      10   \n",
       "649                105         ['Adventure', 'Shooter']     3       0   \n",
       "713                192                               []    20       3   \n",
       "719                175                          ['RPG']     5       0   \n",
       "726                 90         ['Adventure', 'Shooter']     1       0   \n",
       "746                118  ['Adventure', 'Brawler', 'RPG']     2       1   \n",
       "972                581             ['Adventure', 'RPG']    72       6   \n",
       "1130               250                    ['Adventure']    13       2   \n",
       "1160                51          ['Adventure', 'Puzzle']     3       0   \n",
       "1202                83    ['Adventure', 'Indie', 'RPG']     0       1   \n",
       "1305               148               ['Brawler', 'RPG']    19      10   \n",
       "1341                 0                       ['Arcade']     1       0   \n",
       "1349                 2                          ['RPG']     1       0   \n",
       "\n",
       "     Backlogs Wishlist  \n",
       "587       732     2.4K  \n",
       "649       209      644  \n",
       "713       354     1.1K  \n",
       "719       260      939  \n",
       "726        92      437  \n",
       "746       145      588  \n",
       "972      1.6K     5.4K  \n",
       "1130      367     1.4K  \n",
       "1160       74      291  \n",
       "1202      103      529  \n",
       "1305      179      677  \n",
       "1341        1        2  \n",
       "1349        1        7  "
      ]
     },
     "execution_count": 27,
     "metadata": {},
     "output_type": "execute_result"
    }
   ],
   "source": [
    "dfvg_1[dfvg_1['Rating'].isnull()]"
   ]
  },
  {
   "cell_type": "markdown",
   "metadata": {},
   "source": [
    "Looking at this snippet of the data there is a trend between having recent release dates and not having ratings. Furthermore this also revealed that the game \"Death Stranding 2\" has the release date \"releases on TBD\" which also needs to be investigated. \n",
    "\n",
    "As ratings are incredibly important for our analysis we decide to drop games with no release date"
   ]
  },
  {
   "cell_type": "code",
   "execution_count": 29,
   "metadata": {},
   "outputs": [],
   "source": [
    "dfvg_1 = dfvg_1.dropna(subset=['Rating'])\n",
    "dfvg_1 = dfvg_1.reset_index(drop=True)\n",
    "#removing the NaN ratings and then using the reset_index() to keep the index intact"
   ]
  },
  {
   "cell_type": "code",
   "execution_count": 31,
   "metadata": {},
   "outputs": [
    {
     "data": {
      "text/plain": [
       "(1499, 11)"
      ]
     },
     "execution_count": 31,
     "metadata": {},
     "output_type": "execute_result"
    }
   ],
   "source": [
    "dfvg_1.shape"
   ]
  },
  {
   "cell_type": "markdown",
   "metadata": {},
   "source": [
    "Earlier we found a game with a release date recorded as \"releases on TBD\" below we check for any other games which share this trait."
   ]
  },
  {
   "cell_type": "code",
   "execution_count": 32,
   "metadata": {},
   "outputs": [
    {
     "data": {
      "text/html": [
       "<div>\n",
       "<style scoped>\n",
       "    .dataframe tbody tr th:only-of-type {\n",
       "        vertical-align: middle;\n",
       "    }\n",
       "\n",
       "    .dataframe tbody tr th {\n",
       "        vertical-align: top;\n",
       "    }\n",
       "\n",
       "    .dataframe thead th {\n",
       "        text-align: right;\n",
       "    }\n",
       "</style>\n",
       "<table border=\"1\" class=\"dataframe\">\n",
       "  <thead>\n",
       "    <tr style=\"text-align: right;\">\n",
       "      <th></th>\n",
       "      <th>Title</th>\n",
       "      <th>Release Date</th>\n",
       "      <th>Team</th>\n",
       "      <th>Rating</th>\n",
       "      <th>Times Listed</th>\n",
       "      <th>Number of Reviews</th>\n",
       "      <th>Genres</th>\n",
       "      <th>Plays</th>\n",
       "      <th>Playing</th>\n",
       "      <th>Backlogs</th>\n",
       "      <th>Wishlist</th>\n",
       "    </tr>\n",
       "  </thead>\n",
       "  <tbody>\n",
       "    <tr>\n",
       "      <th>643</th>\n",
       "      <td>Deltarune</td>\n",
       "      <td>releases on TBD</td>\n",
       "      <td>['tobyfox']</td>\n",
       "      <td>4.3</td>\n",
       "      <td>313</td>\n",
       "      <td>313</td>\n",
       "      <td>['Adventure', 'Indie', 'Music', 'Puzzle', 'RPG']</td>\n",
       "      <td>1.3K</td>\n",
       "      <td>83</td>\n",
       "      <td>468</td>\n",
       "      <td>617</td>\n",
       "    </tr>\n",
       "    <tr>\n",
       "      <th>1242</th>\n",
       "      <td>Elden Ring: Shadow of the Erdtree</td>\n",
       "      <td>releases on TBD</td>\n",
       "      <td>['FromSoftware', 'Bandai Namco Entertainment']</td>\n",
       "      <td>4.8</td>\n",
       "      <td>18</td>\n",
       "      <td>18</td>\n",
       "      <td>['Adventure', 'RPG']</td>\n",
       "      <td>1</td>\n",
       "      <td>0</td>\n",
       "      <td>39</td>\n",
       "      <td>146</td>\n",
       "    </tr>\n",
       "  </tbody>\n",
       "</table>\n",
       "</div>"
      ],
      "text/plain": [
       "                                  Title     Release Date  \\\n",
       "643                           Deltarune  releases on TBD   \n",
       "1242  Elden Ring: Shadow of the Erdtree  releases on TBD   \n",
       "\n",
       "                                                Team  Rating Times Listed  \\\n",
       "643                                      ['tobyfox']     4.3          313   \n",
       "1242  ['FromSoftware', 'Bandai Namco Entertainment']     4.8           18   \n",
       "\n",
       "     Number of Reviews                                            Genres  \\\n",
       "643                313  ['Adventure', 'Indie', 'Music', 'Puzzle', 'RPG']   \n",
       "1242                18                              ['Adventure', 'RPG']   \n",
       "\n",
       "     Plays Playing Backlogs Wishlist  \n",
       "643   1.3K      83      468      617  \n",
       "1242     1       0       39      146  "
      ]
     },
     "execution_count": 32,
     "metadata": {},
     "output_type": "execute_result"
    }
   ],
   "source": [
    "tbd_df = dfvg_1[dfvg_1['Release Date'] == 'releases on TBD']\n",
    "tbd_df"
   ]
  },
  {
   "cell_type": "markdown",
   "metadata": {},
   "source": [
    "* **Deltarune** released on 31 October 2018\n",
    "* **Elden Ring: Shadow of the Erdtree** - released on 20 June 2024\n",
    "\n",
    "We append these dates to the release date of each game. In this case of Elden Ring despite having an even more recent release date than the games we dropped previously we find that \"Shadow of the Erdtree\" is an expansion pack for the original game thus reviews and ratings carry over from the original game. \n",
    "\n",
    "*Expansion pack - Extra downloadable content which can be added to the original game adding new features, events, storylines etc.*"
   ]
  },
  {
   "cell_type": "code",
   "execution_count": 35,
   "metadata": {},
   "outputs": [],
   "source": [
    "dfvg_1.at[dfvg_1[dfvg_1['Title'] == 'Deltarune'].index[0], 'Release Date'] = 'Oct 31, 2018'\n",
    "dfvg_1.at[dfvg_1[dfvg_1['Title'] == 'Elden Ring: Shadow of the Erdtree'].index[0], 'Release Date'] = 'Jun 20, 2024'\n"
   ]
  },
  {
   "cell_type": "markdown",
   "metadata": {},
   "source": [
    "Next we want to convert all the information relating to release dates into numerical values using the `datetime` module."
   ]
  },
  {
   "cell_type": "code",
   "execution_count": 36,
   "metadata": {},
   "outputs": [],
   "source": [
    "dfvg_1['Release Date'] = pd.to_datetime(dfvg_1['Release Date']).dt.strftime('%Y-%m-%d')"
   ]
  },
  {
   "cell_type": "markdown",
   "metadata": {},
   "source": [
    "We use the stfrtime method paired with the datetime module to convert the release dates into the desired format."
   ]
  },
  {
   "cell_type": "markdown",
   "metadata": {
    "vscode": {
     "languageId": "javascript"
    }
   },
   "source": [
    "Lastly we need to convert the following columns in to true numeric values:\n",
    "* Times listed\n",
    "* Number of reviews\n",
    "* Plays \n",
    "* Playing\n",
    "* Backlogs\n",
    "* Wishlist\n",
    "\n",
    "We need to transform the data so that we remove the `\"K\"` and then convert the value into a floating numeric value by multiplying by 1000"
   ]
  },
  {
   "cell_type": "code",
   "execution_count": 42,
   "metadata": {},
   "outputs": [
    {
     "data": {
      "text/plain": [
       "Title                0\n",
       "Release Date         0\n",
       "Team                 0\n",
       "Rating               0\n",
       "Times Listed         0\n",
       "Number of Reviews    0\n",
       "Genres               0\n",
       "Plays                0\n",
       "Playing              0\n",
       "Backlogs             0\n",
       "Wishlist             0\n",
       "dtype: int64"
      ]
     },
     "execution_count": 42,
     "metadata": {},
     "output_type": "execute_result"
    }
   ],
   "source": [
    "dfvg_1.isna().sum()"
   ]
  },
  {
   "cell_type": "code",
   "execution_count": null,
   "metadata": {},
   "outputs": [],
   "source": [
    "def k_to_numeric(s):\n",
    "    if 'K' in s:\n",
    "        return float(s.replace('K', ''))*1000\n",
    "    else:\n",
    "        return float(s)\n",
    "dfvg_1['Wishlist'] = dfvg_1['Wishlist'].apply(k_to_numeric)\n",
    "dfvg_1['Backlogs'] = dfvg_1['Backlogs'].apply(k_to_numeric)\n",
    "dfvg_1['Number of Reviews'] = dfvg_1['Number of Reviews'].apply(k_to_numeric)\n",
    "dfvg_1['Plays'] = dfvg_1['Plays'].apply(k_to_numeric)\n",
    "dfvg_1['Playing'] = dfvg_1['Playing'].apply(k_to_numeric)\n",
    "dfvg_1['Rating'] = dfvg_1['Backlogs'].apply(k_to_numeric)"
   ]
  },
  {
   "cell_type": "code",
   "execution_count": 48,
   "metadata": {},
   "outputs": [
    {
     "data": {
      "text/plain": [
       "Title                0\n",
       "Release Date         0\n",
       "Team                 0\n",
       "Rating               0\n",
       "Times Listed         0\n",
       "Number of Reviews    0\n",
       "Genres               0\n",
       "Plays                0\n",
       "Playing              0\n",
       "Backlogs             0\n",
       "Wishlist             0\n",
       "dtype: int64"
      ]
     },
     "execution_count": 48,
     "metadata": {},
     "output_type": "execute_result"
    }
   ],
   "source": [
    "dfvg_1.isna().sum()"
   ]
  },
  {
   "cell_type": "code",
   "execution_count": 50,
   "metadata": {},
   "outputs": [
    {
     "data": {
      "text/plain": [
       "(1499, 11)"
      ]
     },
     "execution_count": 50,
     "metadata": {},
     "output_type": "execute_result"
    }
   ],
   "source": [
    "dfvg_1.shape"
   ]
  },
  {
   "cell_type": "code",
   "execution_count": 51,
   "metadata": {},
   "outputs": [
    {
     "data": {
      "text/html": [
       "<div>\n",
       "<style scoped>\n",
       "    .dataframe tbody tr th:only-of-type {\n",
       "        vertical-align: middle;\n",
       "    }\n",
       "\n",
       "    .dataframe tbody tr th {\n",
       "        vertical-align: top;\n",
       "    }\n",
       "\n",
       "    .dataframe thead th {\n",
       "        text-align: right;\n",
       "    }\n",
       "</style>\n",
       "<table border=\"1\" class=\"dataframe\">\n",
       "  <thead>\n",
       "    <tr style=\"text-align: right;\">\n",
       "      <th></th>\n",
       "      <th>Rating</th>\n",
       "      <th>Times Listed</th>\n",
       "      <th>Number of Reviews</th>\n",
       "      <th>Plays</th>\n",
       "      <th>Playing</th>\n",
       "      <th>Backlogs</th>\n",
       "      <th>Wishlist</th>\n",
       "    </tr>\n",
       "  </thead>\n",
       "  <tbody>\n",
       "    <tr>\n",
       "      <th>count</th>\n",
       "      <td>1499.000000</td>\n",
       "      <td>1499.000000</td>\n",
       "      <td>1499.000000</td>\n",
       "      <td>1499.000000</td>\n",
       "      <td>1499.000000</td>\n",
       "      <td>1499.000000</td>\n",
       "      <td>1499.000000</td>\n",
       "    </tr>\n",
       "    <tr>\n",
       "      <th>mean</th>\n",
       "      <td>3.719346</td>\n",
       "      <td>774.653769</td>\n",
       "      <td>774.653769</td>\n",
       "      <td>6307.694463</td>\n",
       "      <td>269.676451</td>\n",
       "      <td>1462.428286</td>\n",
       "      <td>777.693796</td>\n",
       "    </tr>\n",
       "    <tr>\n",
       "      <th>std</th>\n",
       "      <td>0.532608</td>\n",
       "      <td>688.381719</td>\n",
       "      <td>688.381719</td>\n",
       "      <td>5891.645858</td>\n",
       "      <td>427.582310</td>\n",
       "      <td>1343.029151</td>\n",
       "      <td>793.790867</td>\n",
       "    </tr>\n",
       "    <tr>\n",
       "      <th>min</th>\n",
       "      <td>0.700000</td>\n",
       "      <td>8.000000</td>\n",
       "      <td>8.000000</td>\n",
       "      <td>1.000000</td>\n",
       "      <td>0.000000</td>\n",
       "      <td>5.000000</td>\n",
       "      <td>2.000000</td>\n",
       "    </tr>\n",
       "    <tr>\n",
       "      <th>25%</th>\n",
       "      <td>3.400000</td>\n",
       "      <td>293.500000</td>\n",
       "      <td>293.500000</td>\n",
       "      <td>1900.000000</td>\n",
       "      <td>44.000000</td>\n",
       "      <td>470.000000</td>\n",
       "      <td>212.000000</td>\n",
       "    </tr>\n",
       "    <tr>\n",
       "      <th>50%</th>\n",
       "      <td>3.800000</td>\n",
       "      <td>555.000000</td>\n",
       "      <td>555.000000</td>\n",
       "      <td>4300.000000</td>\n",
       "      <td>115.000000</td>\n",
       "      <td>1000.000000</td>\n",
       "      <td>496.000000</td>\n",
       "    </tr>\n",
       "    <tr>\n",
       "      <th>75%</th>\n",
       "      <td>4.100000</td>\n",
       "      <td>1000.000000</td>\n",
       "      <td>1000.000000</td>\n",
       "      <td>9100.000000</td>\n",
       "      <td>302.000000</td>\n",
       "      <td>2100.000000</td>\n",
       "      <td>1100.000000</td>\n",
       "    </tr>\n",
       "    <tr>\n",
       "      <th>max</th>\n",
       "      <td>4.800000</td>\n",
       "      <td>4300.000000</td>\n",
       "      <td>4300.000000</td>\n",
       "      <td>33000.000000</td>\n",
       "      <td>3800.000000</td>\n",
       "      <td>8300.000000</td>\n",
       "      <td>4800.000000</td>\n",
       "    </tr>\n",
       "  </tbody>\n",
       "</table>\n",
       "</div>"
      ],
      "text/plain": [
       "            Rating  Times Listed  Number of Reviews         Plays  \\\n",
       "count  1499.000000   1499.000000        1499.000000   1499.000000   \n",
       "mean      3.719346    774.653769         774.653769   6307.694463   \n",
       "std       0.532608    688.381719         688.381719   5891.645858   \n",
       "min       0.700000      8.000000           8.000000      1.000000   \n",
       "25%       3.400000    293.500000         293.500000   1900.000000   \n",
       "50%       3.800000    555.000000         555.000000   4300.000000   \n",
       "75%       4.100000   1000.000000        1000.000000   9100.000000   \n",
       "max       4.800000   4300.000000        4300.000000  33000.000000   \n",
       "\n",
       "           Playing     Backlogs     Wishlist  \n",
       "count  1499.000000  1499.000000  1499.000000  \n",
       "mean    269.676451  1462.428286   777.693796  \n",
       "std     427.582310  1343.029151   793.790867  \n",
       "min       0.000000     5.000000     2.000000  \n",
       "25%      44.000000   470.000000   212.000000  \n",
       "50%     115.000000  1000.000000   496.000000  \n",
       "75%     302.000000  2100.000000  1100.000000  \n",
       "max    3800.000000  8300.000000  4800.000000  "
      ]
     },
     "execution_count": 51,
     "metadata": {},
     "output_type": "execute_result"
    }
   ],
   "source": [
    "dfvg_1.describe()"
   ]
  }
 ],
 "metadata": {
  "kernelspec": {
   "display_name": "base",
   "language": "python",
   "name": "python3"
  },
  "language_info": {
   "codemirror_mode": {
    "name": "ipython",
    "version": 3
   },
   "file_extension": ".py",
   "mimetype": "text/x-python",
   "name": "python",
   "nbconvert_exporter": "python",
   "pygments_lexer": "ipython3",
   "version": "3.11.7"
  }
 },
 "nbformat": 4,
 "nbformat_minor": 2
}
