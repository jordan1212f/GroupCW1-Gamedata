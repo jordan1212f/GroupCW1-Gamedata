{
 "cells": [
  {
   "cell_type": "markdown",
   "metadata": {
    "id": "WUBkNl0zNCOS"
   },
   "source": [
    "## COMP5721M: Programming for Data Science\n",
    "\n",
    "## Group project (Coursework 2): Data Analysis Project\n",
    "\n",
    "\n",
    "# _Project Title_\n",
    "\n",
    "\n",
    "_Give names and emails of group members here:_\n",
    "\n",
    "* _NameA_, _usernameA_@leeds.ac.uk\n",
    "* _NameB_, _usernameB_@leeds.ac.uk\n",
    "* _NameC_, _usernameC_@leeds.ac.uk\n",
    "* _NameD_, _usernameD_@leeds.ac.uk"
   ]
  },
  {
   "cell_type": "markdown",
   "metadata": {
    "id": "Kaa3-nEYNCOU"
   },
   "source": [
    "# Project Plan\n",
    "\n",
    "## The Data (10 marks)\n",
    "\n",
    "The provided dataset from Kaggle[1] presents detailed information about video games. It is a rich collection of information about popular titles, player preferences, and trends in the gaming industry. It contains 1512 rows and 14 columns (which is in line with the presented requirements). Column Table showing the title for each game, which allows for the analysis of the popularity of individual titles. In turn, the Release Date allows for tracking the release of games over the years, the most common release date in the data is November 12, 2020, which may be related to the wave of premieres related to the COVID-19 pandemic. Team column contains information about all the teams responsible for developing games. Out of 764 unique teams, the most popular is “Capcom” (34 times). Rating shows the average rating for users, the range of those ratings is from 0,7 to 4,8. The most common grade was 4,1 with average 3,72. Time Listed and Number of Reviews represents interested players in specific games. Dataset contains values like “1,4K” which will be converted into correct numbers. Column Genres represents information about game types, contains 255 unique values, the most popular are “Adventure” and “RPG”. Summary contains detailed plot summaries and game mechanics, enabling semantic analysis, which can be useful in studying player expectations for narrative games and sandboxes. Reviews have 1117 unique values of opinions from players about the game. Plays, Playing, Backlogs and Wishlist contains information about players activity. Plays represent the number of players who played that specific game, Playing from the other hand players who are still playing that game. Backlogs and Wishlist can be interpreted as future interest in games.\n",
    "The dataset contains a small number of missing elements, 13 missing values ​​in the Rating column and 1 missing value in the Abstract column. The impact on the reliability of the analysis is minimal, and the missing ratings can be replaced with average values ​​from similar games. Applying thorough data analysis to this particular dataset seems to be valuable for the game development industry. Proper analysis will allow companies not only to identify the most important aspects of games, but also to choose appropriate marketing strategies.\n",
    "\n",
    "\n",
    "\n",
    "\n",
    "## Project Aim and Objectives (5 marks)\n",
    "\n",
    "_Here you should describe the general aim of your project in\n",
    "around 200-300 words._\n",
    "\n",
    "_This can can be anything from classifying items according to\n",
    "their characteristic features (which mushrooms are poisonous?)\n",
    "to simulating an evolving process (will the rabbits eat all\n",
    "the carrots or get eaten by the foxes?)_\n",
    "\n",
    "_Here some ideas of general types of processing functionality\n",
    "that you could implement:_\n",
    "\n",
    "* _Classification: separate data items into classes according\n",
    "  to their charactersitics (can be either a definite or a\n",
    "  statistical kind of classification)_\n",
    "* _Corellation: find correspondences between different attributes within\n",
    "  a dataset_\n",
    "* _Search: find solutions matching some criteria_\n",
    "* _Visualisation: find informative ways to\n",
    "  display the structure of a large and/or complex dataset_\n",
    "* _Query Answering: create a system that enables one to retrieve information by evaluating some form of query representation_\n",
    "* _Simulation: model the evolution of a complex process_\n",
    "\n",
    "### Specific Objective(s)\n",
    "\n",
    "_You should chose and list __up to 4__ specific objectives suited to the data you will be working with and the type of project you wish to carry out.\n",
    "There should be <b>at least one\n",
    "per person doing the project</b>. There is no need\n",
    "for  the objectives them to be completely different.\n",
    "They could be different\n",
    "stages of the processing requirements, or different processing\n",
    "functions that the system  provides. Or just\n",
    "different aspects of data analysis that will be conducted.\n",
    "Typically, it is expected that there would be one objective\n",
    "per person. Replace the following examples with your own objectives:_\n",
    "\n",
    "* __Objective 1:__ _create a Python datastructure that will ensure world peace_\n",
    "* __Objective 2:__ _stop global warming using a pandas dataframe_\n",
    "* __Objective 3:__ _end poverty using matplotlib_\n",
    "* __Objective 4:__ _end suffering with sklearn_\n",
    "\n",
    "## System Design (5 marks)\n",
    "\n",
    "_Describe your code in terms of the\n",
    "following two sections._\n",
    "\n",
    "### Architecture\n",
    "\n",
    "_Typically this would be  a pipeline in which data goes through several\n",
    "stages of transformation and analysis, but other architectures are possible.\n",
    "This does not need to be particularly complicated. A simple diagram with\n",
    "100-150 words of explanation would\n",
    "be a good way to present your architecture._\n",
    "  \n",
    "### Processing Modules and Algorithms\n",
    "\n",
    "_Briefly list and describe the most significant computational components of your system and the algorithms you will use to implement them.\n",
    "This could include things like:_\n",
    "\n",
    "* _cleaning the data by removing outliers_\n",
    "* _combining different datasets_\n",
    "* _converting samples to a special representaion (such as feature vectors)_\n",
    "* _constructing a special data-structure (such as a decision tree)_\n",
    "* _running some kind of analysis_\n",
    "\n",
    "_Your list can be presented in similar form to the one just given,\n",
    "but should include a brief\n",
    "but more specific description of the components and/or algorithms.\n",
    "Probably three or four components is sufficient for most projects, but\n",
    "you may want to have more._"
   ]
  },
  {
   "cell_type": "markdown",
   "metadata": {
    "id": "LotThvfUNCOU"
   },
   "source": [
    "# Program Code (15 marks)\n",
    "\n",
    "_Your code should be divided into relatively short cells, with brief\n",
    "explanation in markup cells between._\n",
    "\n",
    "_As noted in the assigment overview, it is not necessary that your coding be\n",
    "super complex in order to get a good mark. Although there is a mark for\n",
    "the coding achievement, it is only a quarter of the total._\n",
    "\n",
    "_The suggested length of the code is about 150 lines for 1 person or 500\n",
    "for a 4 peope project. You should not use more than 500 lines of code._\n",
    "\n",
    "_You should divide the code in accordance with the specification of modules and/or\n",
    "algorithms you gave in the previous section. Complex modules should be further\n",
    "divided into several code cells._\n",
    "\n",
    "Please note the following about your code:\n",
    "* <b><i>You may import any packages/modules you wish to use for your project.</i></b>\n",
    "\n",
    "\n",
    "* <b><i>You should submit your notebook in a state where all cells have been\n",
    "    executed and are displaying the output that you wish to present for grading.</i></b>\n",
    "    (We will not normally run your code, unless for some reason we wish to check\n",
    "    that the code functionality matches the given description.)\n",
    "    \n",
    "    \n",
    "* Although you may be programming in a \"pipeline\" style, it is strongly suggested you use function definitions to organise your code. As well as being generally good programming practice, it will be helpful for easy and flexibily presentation of results visualisations later in the document. In the visualisation sections you will be able to produce images in a concise and flexible way by calling functions defined in the program code secion."
   ]
  },
  {
   "cell_type": "markdown",
   "metadata": {},
   "source": [
    "**Importing packages**\n",
    "\n",
    "We first installed all the packages we would use throughout our objectives and data analysis as well as reading the data from the CSV file into a data frame called video_games. Next we scoped out the shape (1512 rows x 14 columns) as well as the first 5 rows of the data frame."
   ]
  },
  {
   "cell_type": "code",
   "execution_count": 5,
   "metadata": {
    "id": "VfmV6eQeNRpF"
   },
   "outputs": [
    {
     "data": {
      "text/plain": [
       "<bound method NDFrame.head of       Unnamed: 0                                    Title  Release Date  \\\n",
       "0              0                               Elden Ring  Feb 25, 2022   \n",
       "1              1                                    Hades  Dec 10, 2019   \n",
       "2              2  The Legend of Zelda: Breath of the Wild  Mar 03, 2017   \n",
       "3              3                                Undertale  Sep 15, 2015   \n",
       "4              4                            Hollow Knight  Feb 24, 2017   \n",
       "...          ...                                      ...           ...   \n",
       "1507        1507             Back to the Future: The Game  Dec 22, 2010   \n",
       "1508        1508                        Team Sonic Racing  May 21, 2019   \n",
       "1509        1509                           Dragon's Dogma  May 22, 2012   \n",
       "1510        1510                          Baldur's Gate 3  Oct 06, 2020   \n",
       "1511        1511                 The LEGO Movie Videogame  Feb 04, 2014   \n",
       "\n",
       "                                                   Team  Rating Times Listed  \\\n",
       "0        ['Bandai Namco Entertainment', 'FromSoftware']     4.5         3.9K   \n",
       "1                                  ['Supergiant Games']     4.3         2.9K   \n",
       "2     ['Nintendo', 'Nintendo EPD Production Group No...     4.4         4.3K   \n",
       "3                                    ['tobyfox', '8-4']     4.2         3.5K   \n",
       "4                                       ['Team Cherry']     4.4           3K   \n",
       "...                                                 ...     ...          ...   \n",
       "1507                                 ['Telltale Games']     3.2           94   \n",
       "1508                           ['Sumo Digital', 'Sega']     2.9          264   \n",
       "1509                                         ['Capcom']     3.7          210   \n",
       "1510                                 ['Larian Studios']     4.1          165   \n",
       "1511                          ['WB Games', 'TT Fusion']     2.8          184   \n",
       "\n",
       "     Number of Reviews                                             Genres  \\\n",
       "0                 3.9K                               ['Adventure', 'RPG']   \n",
       "1                 2.9K           ['Adventure', 'Brawler', 'Indie', 'RPG']   \n",
       "2                 4.3K                               ['Adventure', 'RPG']   \n",
       "3                 3.5K  ['Adventure', 'Indie', 'RPG', 'Turn Based Stra...   \n",
       "4                   3K                 ['Adventure', 'Indie', 'Platform']   \n",
       "...                ...                                                ...   \n",
       "1507                94                   ['Adventure', 'Point-and-Click']   \n",
       "1508               264                               ['Arcade', 'Racing']   \n",
       "1509               210                                 ['Brawler', 'RPG']   \n",
       "1510               165  ['Adventure', 'RPG', 'Strategy', 'Tactical', '...   \n",
       "1511               184                            ['Adventure', 'Puzzle']   \n",
       "\n",
       "                                                Summary  \\\n",
       "0     Elden Ring is a fantasy, action and open world...   \n",
       "1     A rogue-lite hack and slash dungeon crawler in...   \n",
       "2     The Legend of Zelda: Breath of the Wild is the...   \n",
       "3     A small child falls into the Underground, wher...   \n",
       "4     A 2D metroidvania with an emphasis on close co...   \n",
       "...                                                 ...   \n",
       "1507  Back to the Future: The Game is one of Telltal...   \n",
       "1508  Team Sonic Racing combines the best elements o...   \n",
       "1509  Set in a huge open world, Dragon’s Dogma: Dark...   \n",
       "1510  An ancient evil has returned to Baldur's Gate,...   \n",
       "1511  Join Emmet and an unlikely group of resistance...   \n",
       "\n",
       "                                                Reviews Plays Playing  \\\n",
       "0     [\"The first playthrough of elden ring is one o...   17K    3.8K   \n",
       "1     ['convinced this is a roguelike for people who...   21K    3.2K   \n",
       "2     ['This game is the game (that is not CS:GO) th...   30K    2.5K   \n",
       "3     ['soundtrack is tied for #1 with nier automata...   28K     679   \n",
       "4     [\"this games worldbuilding is incredible, with...   21K    2.4K   \n",
       "...                                                 ...   ...     ...   \n",
       "1507  ['Very enjoyable game. The story adds onto the...   763       5   \n",
       "1508  ['jogo morto mas bom', 'not my cup of tea', \"C...  1.5K      49   \n",
       "1509  ['Underrated.', 'A grandes rasgos, es como un ...  1.1K      45   \n",
       "1510  ['Bu türe bu oyunla girmeye çalışmak hataydı s...   269      79   \n",
       "1511  ['Legal', 'Pretty Average Lego Game But It Was...  1.7K      11   \n",
       "\n",
       "     Backlogs Wishlist  \n",
       "0        4.6K     4.8K  \n",
       "1        6.3K     3.6K  \n",
       "2          5K     2.6K  \n",
       "3        4.9K     1.8K  \n",
       "4        8.3K     2.3K  \n",
       "...       ...      ...  \n",
       "1507      223       67  \n",
       "1508      413      107  \n",
       "1509      487      206  \n",
       "1510      388      602  \n",
       "1511      239       73  \n",
       "\n",
       "[1512 rows x 14 columns]>"
      ]
     },
     "execution_count": 5,
     "metadata": {},
     "output_type": "execute_result"
    }
   ],
   "source": [
    "import pandas as pd\n",
    "import numpy as np\n",
    "import matplotlib.pyplot as plt \n",
    "import seaborn as sns\n",
    "video_games = pd.read_csv(\"games.csv\")\n",
    "video_games.shape\n",
    "video_games.head"
   ]
  },
  {
   "cell_type": "markdown",
   "metadata": {},
   "source": [
    "**Data frame shape and initial information:**\n",
    "\n",
    "We used `.columns()` and `.info()` to check the names of the columns we would be working with in the dataset and the data types corresponding to each column. A summary and description of each column can be found in the The Data section of Project plan as well as in a markdown contained in the notebook file. We identified an issue with the data types in the dataset as we had numerical values listed as objects. The conversion of these values to workable numerical values is discussed in the System Design section of this report."
   ]
  },
  {
   "cell_type": "code",
   "execution_count": 8,
   "metadata": {},
   "outputs": [
    {
     "data": {
      "text/plain": [
       "Index(['Unnamed: 0', 'Title', 'Release Date', 'Team', 'Rating', 'Times Listed',\n",
       "       'Number of Reviews', 'Genres', 'Summary', 'Reviews', 'Plays', 'Playing',\n",
       "       'Backlogs', 'Wishlist'],\n",
       "      dtype='object')"
      ]
     },
     "execution_count": 8,
     "metadata": {},
     "output_type": "execute_result"
    }
   ],
   "source": [
    "video_games.columns"
   ]
  },
  {
   "cell_type": "code",
   "execution_count": 10,
   "metadata": {},
   "outputs": [
    {
     "name": "stdout",
     "output_type": "stream",
     "text": [
      "<class 'pandas.core.frame.DataFrame'>\n",
      "RangeIndex: 1512 entries, 0 to 1511\n",
      "Data columns (total 14 columns):\n",
      " #   Column             Non-Null Count  Dtype  \n",
      "---  ------             --------------  -----  \n",
      " 0   Unnamed: 0         1512 non-null   int64  \n",
      " 1   Title              1512 non-null   object \n",
      " 2   Release Date       1512 non-null   object \n",
      " 3   Team               1511 non-null   object \n",
      " 4   Rating             1499 non-null   float64\n",
      " 5   Times Listed       1512 non-null   object \n",
      " 6   Number of Reviews  1512 non-null   object \n",
      " 7   Genres             1512 non-null   object \n",
      " 8   Summary            1511 non-null   object \n",
      " 9   Reviews            1512 non-null   object \n",
      " 10  Plays              1512 non-null   object \n",
      " 11  Playing            1512 non-null   object \n",
      " 12  Backlogs           1512 non-null   object \n",
      " 13  Wishlist           1512 non-null   object \n",
      "dtypes: float64(1), int64(1), object(12)\n",
      "memory usage: 165.5+ KB\n"
     ]
    }
   ],
   "source": [
    "video_games.info()"
   ]
  },
  {
   "cell_type": "markdown",
   "metadata": {},
   "source": [
    "**Using a function to identify an identical column in the dataframe:**\n",
    "\n",
    "There were several comments on Kaggle relating to a known issue in our dataset which was that there were two columns of identical values. We implemented a function using an if and else statement to identify whether values in a column are actually identical to one another. Using Pandas' `.equals` function which can compare between series or data frames to verify if values are identical, the function will even consider NaN values given they are in the same location. We used f strings to verify the result for ourselves and we then tested two columns that we knew for sure wouldn’t be identical (Times listed and Video game titles) to verify that the function was working as intended. \n"
   ]
  },
  {
   "cell_type": "code",
   "execution_count": 13,
   "metadata": {},
   "outputs": [
    {
     "name": "stdout",
     "output_type": "stream",
     "text": [
      "Times Listed and Number of Reviews have the same values\n",
      "Times Listed and Title do not have the same values\n"
     ]
    }
   ],
   "source": [
    "def check_equal_values(df, column1, column2): \n",
    "        if df[column1].equals(df[column2]):\n",
    "            print(f'{column1} and {column2} have the same values')\n",
    "        else:\n",
    "            print(f'{column1} and {column2} do not have the same values')\n",
    "\n",
    "check_equal_values(video_games, 'Times Listed', 'Number of Reviews')\n",
    "check_equal_values(video_games, 'Times Listed', 'Title')"
   ]
  },
  {
   "cell_type": "markdown",
   "metadata": {},
   "source": [
    "**Using .drop() to remove unneeded columns:**\n",
    "\n",
    "We then used .drop() to remove the following columns as we deemed them not vital to our objectives and analysis more details on why these columns were dropped can be found in the System design section. "
   ]
  },
  {
   "cell_type": "code",
   "execution_count": 16,
   "metadata": {},
   "outputs": [
    {
     "data": {
      "text/plain": [
       "<bound method NDFrame.head of                                         Title  Release Date  \\\n",
       "0                                  Elden Ring  Feb 25, 2022   \n",
       "1                                       Hades  Dec 10, 2019   \n",
       "2     The Legend of Zelda: Breath of the Wild  Mar 03, 2017   \n",
       "3                                   Undertale  Sep 15, 2015   \n",
       "4                               Hollow Knight  Feb 24, 2017   \n",
       "...                                       ...           ...   \n",
       "1507             Back to the Future: The Game  Dec 22, 2010   \n",
       "1508                        Team Sonic Racing  May 21, 2019   \n",
       "1509                           Dragon's Dogma  May 22, 2012   \n",
       "1510                          Baldur's Gate 3  Oct 06, 2020   \n",
       "1511                 The LEGO Movie Videogame  Feb 04, 2014   \n",
       "\n",
       "                                                   Team  Rating  \\\n",
       "0        ['Bandai Namco Entertainment', 'FromSoftware']     4.5   \n",
       "1                                  ['Supergiant Games']     4.3   \n",
       "2     ['Nintendo', 'Nintendo EPD Production Group No...     4.4   \n",
       "3                                    ['tobyfox', '8-4']     4.2   \n",
       "4                                       ['Team Cherry']     4.4   \n",
       "...                                                 ...     ...   \n",
       "1507                                 ['Telltale Games']     3.2   \n",
       "1508                           ['Sumo Digital', 'Sega']     2.9   \n",
       "1509                                         ['Capcom']     3.7   \n",
       "1510                                 ['Larian Studios']     4.1   \n",
       "1511                          ['WB Games', 'TT Fusion']     2.8   \n",
       "\n",
       "     Number of Reviews                                             Genres  \\\n",
       "0                 3.9K                               ['Adventure', 'RPG']   \n",
       "1                 2.9K           ['Adventure', 'Brawler', 'Indie', 'RPG']   \n",
       "2                 4.3K                               ['Adventure', 'RPG']   \n",
       "3                 3.5K  ['Adventure', 'Indie', 'RPG', 'Turn Based Stra...   \n",
       "4                   3K                 ['Adventure', 'Indie', 'Platform']   \n",
       "...                ...                                                ...   \n",
       "1507                94                   ['Adventure', 'Point-and-Click']   \n",
       "1508               264                               ['Arcade', 'Racing']   \n",
       "1509               210                                 ['Brawler', 'RPG']   \n",
       "1510               165  ['Adventure', 'RPG', 'Strategy', 'Tactical', '...   \n",
       "1511               184                            ['Adventure', 'Puzzle']   \n",
       "\n",
       "     Plays Playing Backlogs Wishlist  \n",
       "0      17K    3.8K     4.6K     4.8K  \n",
       "1      21K    3.2K     6.3K     3.6K  \n",
       "2      30K    2.5K       5K     2.6K  \n",
       "3      28K     679     4.9K     1.8K  \n",
       "4      21K    2.4K     8.3K     2.3K  \n",
       "...    ...     ...      ...      ...  \n",
       "1507   763       5      223       67  \n",
       "1508  1.5K      49      413      107  \n",
       "1509  1.1K      45      487      206  \n",
       "1510   269      79      388      602  \n",
       "1511  1.7K      11      239       73  \n",
       "\n",
       "[1512 rows x 10 columns]>"
      ]
     },
     "execution_count": 16,
     "metadata": {},
     "output_type": "execute_result"
    }
   ],
   "source": [
    "dfvg_1 = video_games.drop(columns=['Unnamed: 0', 'Summary', 'Reviews', 'Times Listed'])\n",
    "dfvg_1.shape\n",
    "dfvg_1.head"
   ]
  },
  {
   "cell_type": "markdown",
   "metadata": {},
   "source": [
    "**Checking for empty and NaN values:**\n",
    "\n",
    "Using `.sum()` and equality operator for what is defined as an empty value (a string with nothing in it) we were able to check which columns had empty values and how many there were in total for each column. The output of this however showed that there were no empty values in our dataset. "
   ]
  },
  {
   "cell_type": "code",
   "execution_count": 19,
   "metadata": {},
   "outputs": [
    {
     "name": "stdout",
     "output_type": "stream",
     "text": [
      "The following columns contain empty values:\n",
      "\n",
      "Title                0\n",
      "Release Date         0\n",
      "Team                 0\n",
      "Rating               0\n",
      "Number of Reviews    0\n",
      "Genres               0\n",
      "Plays                0\n",
      "Playing              0\n",
      "Backlogs             0\n",
      "Wishlist             0\n",
      "dtype: int64\n"
     ]
    }
   ],
   "source": [
    "empty_values = (dfvg_1 == ' ').sum()\n",
    "print('The following columns contain empty values:')\n",
    "print(f'\\n{empty_values}')"
   ]
  },
  {
   "cell_type": "markdown",
   "metadata": {},
   "source": [
    "We then did a similar check for Not a Number (NaN) values which represent undefined or unable to be represented values. Again we used an output which would give us the total for each column in our dataset. We present these totals in the System design portion of the report. "
   ]
  },
  {
   "cell_type": "code",
   "execution_count": 22,
   "metadata": {},
   "outputs": [
    {
     "name": "stdout",
     "output_type": "stream",
     "text": [
      "The following columns contain NaN values:\n",
      "\n",
      "Title                 0\n",
      "Release Date          0\n",
      "Team                  1\n",
      "Rating               13\n",
      "Number of Reviews     0\n",
      "Genres                0\n",
      "Plays                 0\n",
      "Playing               0\n",
      "Backlogs              0\n",
      "Wishlist              0\n",
      "dtype: int64\n"
     ]
    }
   ],
   "source": [
    "na_values = dfvg_1.isna().sum()\n",
    "print('The following columns contain NaN values:')\n",
    "print(f'\\n{na_values}')"
   ]
  },
  {
   "cell_type": "markdown",
   "metadata": {},
   "source": [
    "**Checking for duplicate values**\n",
    "\n",
    "We assigned the duplicates in our data frame to a variable using the `.duplicated()` to check and identify duplicate entries. We then printed out this output to gauge if there were any duplicate rows in our data frame and if so how many. We found a total of **392** duplicate rows for which we decided to drop from our data frame. "
   ]
  },
  {
   "cell_type": "code",
   "execution_count": 25,
   "metadata": {},
   "outputs": [
    {
     "name": "stdout",
     "output_type": "stream",
     "text": [
      "The following columns are classed as duplicate entries                                         Title  Release Date  \\\n",
      "326                                Elden Ring  Feb 25, 2022   \n",
      "327                                     Hades  Dec 10, 2019   \n",
      "328   The Legend of Zelda: Breath of the Wild  Mar 03, 2017   \n",
      "329                                 Undertale  Sep 15, 2015   \n",
      "330                             Hollow Knight  Feb 24, 2017   \n",
      "...                                       ...           ...   \n",
      "1268          Bloodstained: Curse of the Moon  May 23, 2018   \n",
      "1269                     Final Fantasy XIII-2  Dec 15, 2011   \n",
      "1270                                  Agar.io  Apr 28, 2015   \n",
      "1271        Fatal Frame II: Crimson Butterfly  Nov 27, 2003   \n",
      "1496                                  FIFA 13  Sep 25, 2012   \n",
      "\n",
      "                                                   Team  Rating  \\\n",
      "326      ['Bandai Namco Entertainment', 'FromSoftware']     4.5   \n",
      "327                                ['Supergiant Games']     4.3   \n",
      "328   ['Nintendo', 'Nintendo EPD Production Group No...     4.4   \n",
      "329                                  ['tobyfox', '8-4']     4.2   \n",
      "330                                     ['Team Cherry']     4.4   \n",
      "...                                                 ...     ...   \n",
      "1268                                   ['Inti Creates']     3.6   \n",
      "1269                                    ['Square Enix']     3.3   \n",
      "1270              ['Miniclip.com', 'Matheus Valadares']     2.2   \n",
      "1271       ['Tecmo Co., Ltd.', 'Ubisoft Entertainment']     4.2   \n",
      "1496                   ['Electronic Arts', 'EA Canada']     3.2   \n",
      "\n",
      "     Number of Reviews                                             Genres  \\\n",
      "326               3.9K                               ['Adventure', 'RPG']   \n",
      "327               2.9K           ['Adventure', 'Brawler', 'Indie', 'RPG']   \n",
      "328               4.3K                               ['Adventure', 'RPG']   \n",
      "329               3.5K  ['Adventure', 'Indie', 'RPG', 'Turn Based Stra...   \n",
      "330                 3K                 ['Adventure', 'Indie', 'Platform']   \n",
      "...                ...                                                ...   \n",
      "1268               341                 ['Adventure', 'Indie', 'Platform']   \n",
      "1269               482                               ['Adventure', 'RPG']   \n",
      "1270                81                              ['Indie', 'Strategy']   \n",
      "1271               398                                      ['Adventure']   \n",
      "1496                62                             ['Simulator', 'Sport']   \n",
      "\n",
      "     Plays Playing Backlogs Wishlist  \n",
      "326    17K    3.8K     4.6K     4.8K  \n",
      "327    21K    3.2K     6.3K     3.6K  \n",
      "328    30K    2.5K       5K     2.6K  \n",
      "329    28K     679     4.9K     1.8K  \n",
      "330    21K    2.4K     8.3K     2.3K  \n",
      "...    ...     ...      ...      ...  \n",
      "1268  2.3K      41      800      397  \n",
      "1269  2.3K      58     1.4K      449  \n",
      "1270  4.4K       8       40       12  \n",
      "1271    1K      38      690      513  \n",
      "1496  1.6K       2       34       12  \n",
      "\n",
      "[392 rows x 10 columns]\n"
     ]
    }
   ],
   "source": [
    "dupes = dfvg_1[dfvg_1.duplicated()]\n",
    "print(f'The following columns are classed as duplicate entries {dupes}')"
   ]
  },
  {
   "cell_type": "markdown",
   "metadata": {},
   "source": [
    "**Removing Duplicate rows**\n",
    "\n",
    "To remove duplicate rows in our data frame we utilised the `.drop_duplicates()` function and specified to keep the ‘first’ instance of each duplicated row. After running we got a new shape for our data frame which was (1120 rows x 10 columns)."
   ]
  },
  {
   "cell_type": "code",
   "execution_count": 28,
   "metadata": {},
   "outputs": [
    {
     "name": "stdout",
     "output_type": "stream",
     "text": [
      "The shape of dfvg_1 after removing duplicates is (1120, 10)\n"
     ]
    }
   ],
   "source": [
    "dfvg_1 = dfvg_1.drop_duplicates(keep='first')\n",
    "dfvg1_shape = dfvg_1.shape\n",
    "\n",
    "print(f'The shape of dfvg_1 after removing duplicates is {dfvg1_shape}')"
   ]
  },
  {
   "cell_type": "markdown",
   "metadata": {},
   "source": [
    "**Amending the NaN value in Team and removing NaN values from the rating column:**\n",
    "\n",
    "Using `.fillna()` for the missing team, we filled in the missing team value as we did not want to create a copy with the filled value we specified `inplace` as equal to True so that the new data is just written in place. \n",
    "\n"
   ]
  },
  {
   "cell_type": "code",
   "execution_count": 31,
   "metadata": {},
   "outputs": [
    {
     "name": "stderr",
     "output_type": "stream",
     "text": [
      "C:\\Users\\Rahul Krishna\\AppData\\Local\\Temp\\ipykernel_12180\\1284466186.py:2: FutureWarning: A value is trying to be set on a copy of a DataFrame or Series through chained assignment using an inplace method.\n",
      "The behavior will change in pandas 3.0. This inplace method will never work because the intermediate object on which we are setting values always behaves as a copy.\n",
      "\n",
      "For example, when doing 'df[col].method(value, inplace=True)', try using 'df.method({col: value}, inplace=True)' or df[col] = df[col].method(value) instead, to perform the operation inplace on the original object.\n",
      "\n",
      "\n",
      "  dfvg_1['Team'].fillna('Independent developer', inplace = True)\n",
      "C:\\Users\\Rahul Krishna\\AppData\\Local\\Temp\\ipykernel_12180\\1284466186.py:2: SettingWithCopyWarning: \n",
      "A value is trying to be set on a copy of a slice from a DataFrame\n",
      "\n",
      "See the caveats in the documentation: https://pandas.pydata.org/pandas-docs/stable/user_guide/indexing.html#returning-a-view-versus-a-copy\n",
      "  dfvg_1['Team'].fillna('Independent developer', inplace = True)\n"
     ]
    }
   ],
   "source": [
    "dfvg_1[dfvg_1['Team'].isnull()]\n",
    "dfvg_1['Team'].fillna('Independent developer', inplace = True)"
   ]
  },
  {
   "cell_type": "markdown",
   "metadata": {},
   "source": [
    "We checked all entries which has NaN values using `isnull()` function, we found 13 games with missing ratings. We decided to drop these values as ratings were important to our objectives, more detail on this can be found in the System design section of the project."
   ]
  },
  {
   "cell_type": "code",
   "execution_count": 34,
   "metadata": {},
   "outputs": [
    {
     "data": {
      "text/html": [
       "<div>\n",
       "<style scoped>\n",
       "    .dataframe tbody tr th:only-of-type {\n",
       "        vertical-align: middle;\n",
       "    }\n",
       "\n",
       "    .dataframe tbody tr th {\n",
       "        vertical-align: top;\n",
       "    }\n",
       "\n",
       "    .dataframe thead th {\n",
       "        text-align: right;\n",
       "    }\n",
       "</style>\n",
       "<table border=\"1\" class=\"dataframe\">\n",
       "  <thead>\n",
       "    <tr style=\"text-align: right;\">\n",
       "      <th></th>\n",
       "      <th>Title</th>\n",
       "      <th>Release Date</th>\n",
       "      <th>Team</th>\n",
       "      <th>Rating</th>\n",
       "      <th>Number of Reviews</th>\n",
       "      <th>Genres</th>\n",
       "      <th>Plays</th>\n",
       "      <th>Playing</th>\n",
       "      <th>Backlogs</th>\n",
       "      <th>Wishlist</th>\n",
       "    </tr>\n",
       "  </thead>\n",
       "  <tbody>\n",
       "    <tr>\n",
       "      <th>587</th>\n",
       "      <td>Final Fantasy XVI</td>\n",
       "      <td>Jun 22, 2023</td>\n",
       "      <td>['Square Enix', 'Square Enix Creative Business...</td>\n",
       "      <td>NaN</td>\n",
       "      <td>422</td>\n",
       "      <td>['RPG']</td>\n",
       "      <td>37</td>\n",
       "      <td>10</td>\n",
       "      <td>732</td>\n",
       "      <td>2.4K</td>\n",
       "    </tr>\n",
       "    <tr>\n",
       "      <th>649</th>\n",
       "      <td>Death Stranding 2</td>\n",
       "      <td>releases on TBD</td>\n",
       "      <td>['Kojima Productions']</td>\n",
       "      <td>NaN</td>\n",
       "      <td>105</td>\n",
       "      <td>['Adventure', 'Shooter']</td>\n",
       "      <td>3</td>\n",
       "      <td>0</td>\n",
       "      <td>209</td>\n",
       "      <td>644</td>\n",
       "    </tr>\n",
       "    <tr>\n",
       "      <th>713</th>\n",
       "      <td>Final Fantasy VII Rebirth</td>\n",
       "      <td>Dec 31, 2023</td>\n",
       "      <td>['Square Enix']</td>\n",
       "      <td>NaN</td>\n",
       "      <td>192</td>\n",
       "      <td>[]</td>\n",
       "      <td>20</td>\n",
       "      <td>3</td>\n",
       "      <td>354</td>\n",
       "      <td>1.1K</td>\n",
       "    </tr>\n",
       "    <tr>\n",
       "      <th>719</th>\n",
       "      <td>Lies of P</td>\n",
       "      <td>Aug 01, 2023</td>\n",
       "      <td>['NEOWIZ', 'Round8 Studio']</td>\n",
       "      <td>NaN</td>\n",
       "      <td>175</td>\n",
       "      <td>['RPG']</td>\n",
       "      <td>5</td>\n",
       "      <td>0</td>\n",
       "      <td>260</td>\n",
       "      <td>939</td>\n",
       "    </tr>\n",
       "    <tr>\n",
       "      <th>726</th>\n",
       "      <td>Judas</td>\n",
       "      <td>Mar 31, 2025</td>\n",
       "      <td>['Ghost Story Games']</td>\n",
       "      <td>NaN</td>\n",
       "      <td>90</td>\n",
       "      <td>['Adventure', 'Shooter']</td>\n",
       "      <td>1</td>\n",
       "      <td>0</td>\n",
       "      <td>92</td>\n",
       "      <td>437</td>\n",
       "    </tr>\n",
       "    <tr>\n",
       "      <th>746</th>\n",
       "      <td>Like a Dragon Gaiden: The Man Who Erased His Name</td>\n",
       "      <td>Dec 31, 2023</td>\n",
       "      <td>['Ryū Ga Gotoku Studios', 'Sega']</td>\n",
       "      <td>NaN</td>\n",
       "      <td>118</td>\n",
       "      <td>['Adventure', 'Brawler', 'RPG']</td>\n",
       "      <td>2</td>\n",
       "      <td>1</td>\n",
       "      <td>145</td>\n",
       "      <td>588</td>\n",
       "    </tr>\n",
       "    <tr>\n",
       "      <th>972</th>\n",
       "      <td>The Legend of Zelda: Tears of the Kingdom</td>\n",
       "      <td>May 12, 2023</td>\n",
       "      <td>['Nintendo', 'Nintendo EPD Production Group No...</td>\n",
       "      <td>NaN</td>\n",
       "      <td>581</td>\n",
       "      <td>['Adventure', 'RPG']</td>\n",
       "      <td>72</td>\n",
       "      <td>6</td>\n",
       "      <td>1.6K</td>\n",
       "      <td>5.4K</td>\n",
       "    </tr>\n",
       "    <tr>\n",
       "      <th>1130</th>\n",
       "      <td>Star Wars Jedi: Survivor</td>\n",
       "      <td>Apr 28, 2023</td>\n",
       "      <td>['Respawn Entertainment', 'Electronic Arts']</td>\n",
       "      <td>NaN</td>\n",
       "      <td>250</td>\n",
       "      <td>['Adventure']</td>\n",
       "      <td>13</td>\n",
       "      <td>2</td>\n",
       "      <td>367</td>\n",
       "      <td>1.4K</td>\n",
       "    </tr>\n",
       "    <tr>\n",
       "      <th>1160</th>\n",
       "      <td>We Love Katamari Reroll + Royal Reverie</td>\n",
       "      <td>Jun 02, 2023</td>\n",
       "      <td>['Bandai Namco Entertainment', 'MONKEYCRAFT Co...</td>\n",
       "      <td>NaN</td>\n",
       "      <td>51</td>\n",
       "      <td>['Adventure', 'Puzzle']</td>\n",
       "      <td>3</td>\n",
       "      <td>0</td>\n",
       "      <td>74</td>\n",
       "      <td>291</td>\n",
       "    </tr>\n",
       "    <tr>\n",
       "      <th>1202</th>\n",
       "      <td>Earthblade</td>\n",
       "      <td>Dec 31, 2024</td>\n",
       "      <td>['Extremely OK Games']</td>\n",
       "      <td>NaN</td>\n",
       "      <td>83</td>\n",
       "      <td>['Adventure', 'Indie', 'RPG']</td>\n",
       "      <td>0</td>\n",
       "      <td>1</td>\n",
       "      <td>103</td>\n",
       "      <td>529</td>\n",
       "    </tr>\n",
       "    <tr>\n",
       "      <th>1305</th>\n",
       "      <td>Diablo IV</td>\n",
       "      <td>Jun 06, 2023</td>\n",
       "      <td>['Blizzard Entertainment']</td>\n",
       "      <td>NaN</td>\n",
       "      <td>148</td>\n",
       "      <td>['Brawler', 'RPG']</td>\n",
       "      <td>19</td>\n",
       "      <td>10</td>\n",
       "      <td>179</td>\n",
       "      <td>677</td>\n",
       "    </tr>\n",
       "    <tr>\n",
       "      <th>1341</th>\n",
       "      <td>Pac-Man in a Tin</td>\n",
       "      <td>Mar 22, 2023</td>\n",
       "      <td>['Fizz Creations']</td>\n",
       "      <td>NaN</td>\n",
       "      <td>0</td>\n",
       "      <td>['Arcade']</td>\n",
       "      <td>1</td>\n",
       "      <td>0</td>\n",
       "      <td>1</td>\n",
       "      <td>2</td>\n",
       "    </tr>\n",
       "    <tr>\n",
       "      <th>1349</th>\n",
       "      <td>Pokémon Añil</td>\n",
       "      <td>Mar 23, 2023</td>\n",
       "      <td>['Eric Lost']</td>\n",
       "      <td>NaN</td>\n",
       "      <td>2</td>\n",
       "      <td>['RPG']</td>\n",
       "      <td>1</td>\n",
       "      <td>0</td>\n",
       "      <td>1</td>\n",
       "      <td>7</td>\n",
       "    </tr>\n",
       "  </tbody>\n",
       "</table>\n",
       "</div>"
      ],
      "text/plain": [
       "                                                  Title     Release Date  \\\n",
       "587                                   Final Fantasy XVI     Jun 22, 2023   \n",
       "649                                   Death Stranding 2  releases on TBD   \n",
       "713                           Final Fantasy VII Rebirth     Dec 31, 2023   \n",
       "719                                           Lies of P     Aug 01, 2023   \n",
       "726                                               Judas     Mar 31, 2025   \n",
       "746   Like a Dragon Gaiden: The Man Who Erased His Name     Dec 31, 2023   \n",
       "972           The Legend of Zelda: Tears of the Kingdom     May 12, 2023   \n",
       "1130                           Star Wars Jedi: Survivor     Apr 28, 2023   \n",
       "1160            We Love Katamari Reroll + Royal Reverie     Jun 02, 2023   \n",
       "1202                                         Earthblade     Dec 31, 2024   \n",
       "1305                                          Diablo IV     Jun 06, 2023   \n",
       "1341                                   Pac-Man in a Tin     Mar 22, 2023   \n",
       "1349                                       Pokémon Añil     Mar 23, 2023   \n",
       "\n",
       "                                                   Team  Rating  \\\n",
       "587   ['Square Enix', 'Square Enix Creative Business...     NaN   \n",
       "649                              ['Kojima Productions']     NaN   \n",
       "713                                     ['Square Enix']     NaN   \n",
       "719                         ['NEOWIZ', 'Round8 Studio']     NaN   \n",
       "726                               ['Ghost Story Games']     NaN   \n",
       "746                   ['Ryū Ga Gotoku Studios', 'Sega']     NaN   \n",
       "972   ['Nintendo', 'Nintendo EPD Production Group No...     NaN   \n",
       "1130       ['Respawn Entertainment', 'Electronic Arts']     NaN   \n",
       "1160  ['Bandai Namco Entertainment', 'MONKEYCRAFT Co...     NaN   \n",
       "1202                             ['Extremely OK Games']     NaN   \n",
       "1305                         ['Blizzard Entertainment']     NaN   \n",
       "1341                                 ['Fizz Creations']     NaN   \n",
       "1349                                      ['Eric Lost']     NaN   \n",
       "\n",
       "     Number of Reviews                           Genres Plays Playing  \\\n",
       "587                422                          ['RPG']    37      10   \n",
       "649                105         ['Adventure', 'Shooter']     3       0   \n",
       "713                192                               []    20       3   \n",
       "719                175                          ['RPG']     5       0   \n",
       "726                 90         ['Adventure', 'Shooter']     1       0   \n",
       "746                118  ['Adventure', 'Brawler', 'RPG']     2       1   \n",
       "972                581             ['Adventure', 'RPG']    72       6   \n",
       "1130               250                    ['Adventure']    13       2   \n",
       "1160                51          ['Adventure', 'Puzzle']     3       0   \n",
       "1202                83    ['Adventure', 'Indie', 'RPG']     0       1   \n",
       "1305               148               ['Brawler', 'RPG']    19      10   \n",
       "1341                 0                       ['Arcade']     1       0   \n",
       "1349                 2                          ['RPG']     1       0   \n",
       "\n",
       "     Backlogs Wishlist  \n",
       "587       732     2.4K  \n",
       "649       209      644  \n",
       "713       354     1.1K  \n",
       "719       260      939  \n",
       "726        92      437  \n",
       "746       145      588  \n",
       "972      1.6K     5.4K  \n",
       "1130      367     1.4K  \n",
       "1160       74      291  \n",
       "1202      103      529  \n",
       "1305      179      677  \n",
       "1341        1        2  \n",
       "1349        1        7  "
      ]
     },
     "execution_count": 34,
     "metadata": {},
     "output_type": "execute_result"
    }
   ],
   "source": [
    "dfvg_1[dfvg_1['Rating'].isnull()]"
   ]
  },
  {
   "cell_type": "markdown",
   "metadata": {},
   "source": [
    "Below is how we dropped the NaN rating values, for which we use the `.dropna` and specify we are wanting to drop only NaN values in the rating columns. To reset the index we used `.reset_index` with `Drop=True` to maintain a working and accurate index for each row in the data frame"
   ]
  },
  {
   "cell_type": "code",
   "execution_count": 37,
   "metadata": {},
   "outputs": [
    {
     "data": {
      "text/plain": [
       "(1107, 10)"
      ]
     },
     "execution_count": 37,
     "metadata": {},
     "output_type": "execute_result"
    }
   ],
   "source": [
    "dfvg_1 = dfvg_1.dropna(subset=['Rating'])\n",
    "dfvg_1 = dfvg_1.reset_index(drop=True)\n",
    "dfvg_1.shape"
   ]
  },
  {
   "cell_type": "markdown",
   "metadata": {},
   "source": [
    "**Investigating \"Release dates on TBD\"**\n",
    "\n",
    "When looking at the NaN values for rating we noticed that the game *Death Stranding 2* had an interesting value in the release date column, which was as a release date recorded as \"Release on TBD\" we decided to check if any other games had this entry for a release date and if possible see if the date could be amended if the game had since been released or just been recorded wrongly. We isolated any potential entries into a separate data frame which we could amend if needed."
   ]
  },
  {
   "cell_type": "code",
   "execution_count": 40,
   "metadata": {},
   "outputs": [
    {
     "data": {
      "text/html": [
       "<div>\n",
       "<style scoped>\n",
       "    .dataframe tbody tr th:only-of-type {\n",
       "        vertical-align: middle;\n",
       "    }\n",
       "\n",
       "    .dataframe tbody tr th {\n",
       "        vertical-align: top;\n",
       "    }\n",
       "\n",
       "    .dataframe thead th {\n",
       "        text-align: right;\n",
       "    }\n",
       "</style>\n",
       "<table border=\"1\" class=\"dataframe\">\n",
       "  <thead>\n",
       "    <tr style=\"text-align: right;\">\n",
       "      <th></th>\n",
       "      <th>Title</th>\n",
       "      <th>Release Date</th>\n",
       "      <th>Team</th>\n",
       "      <th>Rating</th>\n",
       "      <th>Number of Reviews</th>\n",
       "      <th>Genres</th>\n",
       "      <th>Plays</th>\n",
       "      <th>Playing</th>\n",
       "      <th>Backlogs</th>\n",
       "      <th>Wishlist</th>\n",
       "    </tr>\n",
       "  </thead>\n",
       "  <tbody>\n",
       "    <tr>\n",
       "      <th>420</th>\n",
       "      <td>Deltarune</td>\n",
       "      <td>releases on TBD</td>\n",
       "      <td>['tobyfox']</td>\n",
       "      <td>4.3</td>\n",
       "      <td>313</td>\n",
       "      <td>['Adventure', 'Indie', 'Music', 'Puzzle', 'RPG']</td>\n",
       "      <td>1.3K</td>\n",
       "      <td>83</td>\n",
       "      <td>468</td>\n",
       "      <td>617</td>\n",
       "    </tr>\n",
       "    <tr>\n",
       "      <th>870</th>\n",
       "      <td>Elden Ring: Shadow of the Erdtree</td>\n",
       "      <td>releases on TBD</td>\n",
       "      <td>['FromSoftware', 'Bandai Namco Entertainment']</td>\n",
       "      <td>4.8</td>\n",
       "      <td>18</td>\n",
       "      <td>['Adventure', 'RPG']</td>\n",
       "      <td>1</td>\n",
       "      <td>0</td>\n",
       "      <td>39</td>\n",
       "      <td>146</td>\n",
       "    </tr>\n",
       "  </tbody>\n",
       "</table>\n",
       "</div>"
      ],
      "text/plain": [
       "                                 Title     Release Date  \\\n",
       "420                          Deltarune  releases on TBD   \n",
       "870  Elden Ring: Shadow of the Erdtree  releases on TBD   \n",
       "\n",
       "                                               Team  Rating Number of Reviews  \\\n",
       "420                                     ['tobyfox']     4.3               313   \n",
       "870  ['FromSoftware', 'Bandai Namco Entertainment']     4.8                18   \n",
       "\n",
       "                                               Genres Plays Playing Backlogs  \\\n",
       "420  ['Adventure', 'Indie', 'Music', 'Puzzle', 'RPG']  1.3K      83      468   \n",
       "870                              ['Adventure', 'RPG']     1       0       39   \n",
       "\n",
       "    Wishlist  \n",
       "420      617  \n",
       "870      146  "
      ]
     },
     "execution_count": 40,
     "metadata": {},
     "output_type": "execute_result"
    }
   ],
   "source": [
    "tbd_df = dfvg_1[dfvg_1['Release Date'] == 'releases on TBD']\n",
    "tbd_df"
   ]
  },
  {
   "cell_type": "markdown",
   "metadata": {},
   "source": [
    "**Amending values**\n",
    "\n",
    "* *Deltarune*:- released on 31 October 2018\n",
    "* *Elden Ring:- Shadow of the Erdtree* - released on 20 June 2024\n",
    "\n",
    "We append these dates to the release date of each game. In this case of Elden Ring despite having an even more recent release date than the games we dropped previously we find that \"Shadow of the Erdtree\" is an expansion pack for the original game thus reviews and ratings carry over from the original game. \n",
    "\n",
    "*Expansion pack - Extra downloadable content which can be added to the original game adding new features, events, storylines etc.*"
   ]
  },
  {
   "cell_type": "code",
   "execution_count": 43,
   "metadata": {},
   "outputs": [],
   "source": [
    "dfvg_1.at[dfvg_1[dfvg_1['Title'] == 'Deltarune'].index[0], 'Release Date'] = 'Oct 31, 2018'\n",
    "dfvg_1.at[dfvg_1[dfvg_1['Title'] == 'Elden Ring: Shadow of the Erdtree'].index[0], 'Release Date'] = 'Jun 20, 2024'"
   ]
  },
  {
   "cell_type": "markdown",
   "metadata": {},
   "source": [
    "**Using Datetime module**\n",
    "\n",
    "We then used the datetime with `.strtime` to change the date formats in our data frame into the format YYYY-MM-DD. We targeted the row for dates and then applied the transformation using `.strtime` format we decided on ('%Y-%m-%d') "
   ]
  },
  {
   "cell_type": "code",
   "execution_count": 46,
   "metadata": {},
   "outputs": [],
   "source": [
    "dfvg_1['Release Date'] = pd.to_datetime(dfvg_1['Release Date']).dt.strftime('%Y-%m-%d')"
   ]
  },
  {
   "cell_type": "markdown",
   "metadata": {},
   "source": [
    "**Converting to numeric values function**\n",
    "\n",
    "Lastly we need to convert the following columns in to true numeric values:\n",
    "\n",
    "* Number of reviews\n",
    "* Plays \n",
    "* Playing\n",
    "* Backlogs\n",
    "* Wishlist\n",
    "\n",
    "We need to transform the data so that we remove the `\"K\"` and then convert the value into a floating numeric value by multiplying by 1000.\n",
    "\n",
    "To do so we defined a function which would iterate over each entry in a column and use a `if` statement to check if the character \"K\" was in the entry. If the value contained \"K\" `.replace` would remove the character and then multiply the stripped value by 1000 to return a floating point number which we could use in our analysis. If the value didn't contain \"K\" our `else:` condition would just convert the number to a float."
   ]
  },
  {
   "cell_type": "code",
   "execution_count": 49,
   "metadata": {},
   "outputs": [],
   "source": [
    "def k_to_numeric(s):\n",
    "    if 'K' in s:\n",
    "        return float(s.replace('K', ''))*1000\n",
    "    else:\n",
    "        return float(s)\n",
    "dfvg_1['Wishlist'] = dfvg_1['Wishlist'].apply(k_to_numeric)\n",
    "dfvg_1['Backlogs'] = dfvg_1['Backlogs'].apply(k_to_numeric)\n",
    "dfvg_1['Number of Reviews'] = dfvg_1['Number of Reviews'].apply(k_to_numeric)\n",
    "dfvg_1['Plays'] = dfvg_1['Plays'].apply(k_to_numeric)\n",
    "dfvg_1['Playing'] = dfvg_1['Playing'].apply(k_to_numeric)"
   ]
  },
  {
   "cell_type": "markdown",
   "metadata": {},
   "source": [
    "**Final checks and summary statistics**\n",
    "\n",
    "Finally we checked to see if the data frame contained any NaN values following our transformations, the final shape of the data frame and we also complied some summary statistics for the clean version of the data frame."
   ]
  },
  {
   "cell_type": "code",
   "execution_count": 52,
   "metadata": {},
   "outputs": [
    {
     "data": {
      "text/plain": [
       "Title                0\n",
       "Release Date         0\n",
       "Team                 0\n",
       "Rating               0\n",
       "Number of Reviews    0\n",
       "Genres               0\n",
       "Plays                0\n",
       "Playing              0\n",
       "Backlogs             0\n",
       "Wishlist             0\n",
       "dtype: int64"
      ]
     },
     "execution_count": 52,
     "metadata": {},
     "output_type": "execute_result"
    }
   ],
   "source": [
    "dfvg_1.isna().sum()"
   ]
  },
  {
   "cell_type": "code",
   "execution_count": 54,
   "metadata": {},
   "outputs": [
    {
     "data": {
      "text/plain": [
       "(1107, 10)"
      ]
     },
     "execution_count": 54,
     "metadata": {},
     "output_type": "execute_result"
    }
   ],
   "source": [
    "dfvg_1.shape"
   ]
  },
  {
   "cell_type": "code",
   "execution_count": 56,
   "metadata": {},
   "outputs": [
    {
     "data": {
      "text/html": [
       "<div>\n",
       "<style scoped>\n",
       "    .dataframe tbody tr th:only-of-type {\n",
       "        vertical-align: middle;\n",
       "    }\n",
       "\n",
       "    .dataframe tbody tr th {\n",
       "        vertical-align: top;\n",
       "    }\n",
       "\n",
       "    .dataframe thead th {\n",
       "        text-align: right;\n",
       "    }\n",
       "</style>\n",
       "<table border=\"1\" class=\"dataframe\">\n",
       "  <thead>\n",
       "    <tr style=\"text-align: right;\">\n",
       "      <th></th>\n",
       "      <th>Rating</th>\n",
       "      <th>Number of Reviews</th>\n",
       "      <th>Plays</th>\n",
       "      <th>Playing</th>\n",
       "      <th>Backlogs</th>\n",
       "      <th>Wishlist</th>\n",
       "    </tr>\n",
       "  </thead>\n",
       "  <tbody>\n",
       "    <tr>\n",
       "      <th>count</th>\n",
       "      <td>1107.000000</td>\n",
       "      <td>1107.000000</td>\n",
       "      <td>1107.000000</td>\n",
       "      <td>1107.000000</td>\n",
       "      <td>1107.000000</td>\n",
       "      <td>1107.000000</td>\n",
       "    </tr>\n",
       "    <tr>\n",
       "      <th>mean</th>\n",
       "      <td>3.660163</td>\n",
       "      <td>611.813008</td>\n",
       "      <td>5031.593496</td>\n",
       "      <td>189.482385</td>\n",
       "      <td>1175.618790</td>\n",
       "      <td>604.776874</td>\n",
       "    </tr>\n",
       "    <tr>\n",
       "      <th>std</th>\n",
       "      <td>0.538292</td>\n",
       "      <td>560.010002</td>\n",
       "      <td>4949.345975</td>\n",
       "      <td>321.800499</td>\n",
       "      <td>1130.641642</td>\n",
       "      <td>642.597057</td>\n",
       "    </tr>\n",
       "    <tr>\n",
       "      <th>min</th>\n",
       "      <td>0.700000</td>\n",
       "      <td>8.000000</td>\n",
       "      <td>1.000000</td>\n",
       "      <td>0.000000</td>\n",
       "      <td>5.000000</td>\n",
       "      <td>2.000000</td>\n",
       "    </tr>\n",
       "    <tr>\n",
       "      <th>25%</th>\n",
       "      <td>3.400000</td>\n",
       "      <td>237.500000</td>\n",
       "      <td>1600.000000</td>\n",
       "      <td>34.000000</td>\n",
       "      <td>389.000000</td>\n",
       "      <td>176.500000</td>\n",
       "    </tr>\n",
       "    <tr>\n",
       "      <th>50%</th>\n",
       "      <td>3.700000</td>\n",
       "      <td>446.000000</td>\n",
       "      <td>3400.000000</td>\n",
       "      <td>83.000000</td>\n",
       "      <td>773.000000</td>\n",
       "      <td>402.000000</td>\n",
       "    </tr>\n",
       "    <tr>\n",
       "      <th>75%</th>\n",
       "      <td>4.100000</td>\n",
       "      <td>788.500000</td>\n",
       "      <td>6800.000000</td>\n",
       "      <td>204.500000</td>\n",
       "      <td>1600.000000</td>\n",
       "      <td>766.500000</td>\n",
       "    </tr>\n",
       "    <tr>\n",
       "      <th>max</th>\n",
       "      <td>4.800000</td>\n",
       "      <td>4300.000000</td>\n",
       "      <td>33000.000000</td>\n",
       "      <td>3800.000000</td>\n",
       "      <td>8300.000000</td>\n",
       "      <td>4800.000000</td>\n",
       "    </tr>\n",
       "  </tbody>\n",
       "</table>\n",
       "</div>"
      ],
      "text/plain": [
       "            Rating  Number of Reviews         Plays      Playing     Backlogs  \\\n",
       "count  1107.000000        1107.000000   1107.000000  1107.000000  1107.000000   \n",
       "mean      3.660163         611.813008   5031.593496   189.482385  1175.618790   \n",
       "std       0.538292         560.010002   4949.345975   321.800499  1130.641642   \n",
       "min       0.700000           8.000000      1.000000     0.000000     5.000000   \n",
       "25%       3.400000         237.500000   1600.000000    34.000000   389.000000   \n",
       "50%       3.700000         446.000000   3400.000000    83.000000   773.000000   \n",
       "75%       4.100000         788.500000   6800.000000   204.500000  1600.000000   \n",
       "max       4.800000        4300.000000  33000.000000  3800.000000  8300.000000   \n",
       "\n",
       "          Wishlist  \n",
       "count  1107.000000  \n",
       "mean    604.776874  \n",
       "std     642.597057  \n",
       "min       2.000000  \n",
       "25%     176.500000  \n",
       "50%     402.000000  \n",
       "75%     766.500000  \n",
       "max    4800.000000  "
      ]
     },
     "execution_count": 56,
     "metadata": {},
     "output_type": "execute_result"
    }
   ],
   "source": [
    "dfvg_1.describe()"
   ]
  },
  {
   "cell_type": "markdown",
   "metadata": {
    "id": "z27nxbgiNCOV"
   },
   "source": [
    "#### _Brief Explanation of following code cell_\n",
    "\n",
    "_Below is a silly example of some trivial data. Replace this markup cell and the one below with something more interesting. And go on adding more until you have\n",
    "achieved your objectives (at least to some extent)._"
   ]
  },
  {
   "cell_type": "code",
   "execution_count": 59,
   "metadata": {
    "id": "WhXGjy9ONCOV"
   },
   "outputs": [],
   "source": [
    "## Code Cell\n",
    "## This will typically consist of:\n",
    "\n",
    "## (a) Code doing some data manipulation:\n",
    "\n",
    "# fm_data = { \"souvenir\"     :  9,\n",
    "#             \"cute animal\"  :  5,\n",
    "#             \"meme\"         : 36,\n",
    "#             \"smiley\"       :  3,\n",
    "#             \"random image\" : 13\n",
    "#           }\n",
    "# total = sum([fm_data[f] for f in fm_data])\n",
    "\n",
    "# ## (b) Code for displaying some output:\n",
    "\n",
    "# print(\"The total number of fridge magnets is:\", total)"
   ]
  },
  {
   "cell_type": "markdown",
   "metadata": {
    "id": "KKjvcqBvNCOW"
   },
   "source": [
    "#### _Comment on previous cell output (optional)_\n",
    "\n",
    "_As well as describing code, it will in many cases be informative to describe the output\n",
    "that has been generated by a cell._\n",
    "\n",
    "_The previous output cell shows a key number in our fridge magnet analysis._"
   ]
  },
  {
   "cell_type": "markdown",
   "metadata": {
    "id": "SKqZqiAgNCOW"
   },
   "source": [
    "#### _Brief Explanation of following code cell_\n",
    "\n",
    "_Since fridge magnets often take the form of cute animals, we use `pandas` to convert the raw data into a `DataFrame`._"
   ]
  },
  {
   "cell_type": "code",
   "execution_count": 63,
   "metadata": {
    "id": "AB4cGr-yNCOW",
    "outputId": "fdb25ce5-c0dc-42e2-bc89-48c335489f69"
   },
   "outputs": [],
   "source": [
    "## Code Cell\n",
    "# import pandas\n",
    "# df = pandas.DataFrame.from_dict(fm_data, orient='index')\n",
    "# df"
   ]
  },
  {
   "cell_type": "markdown",
   "metadata": {
    "id": "RkgYKE9hNCOX"
   },
   "source": [
    "#### _Comment on previous cell output (optional)_\n",
    "_The output from the previous cell is very interesting._"
   ]
  },
  {
   "cell_type": "markdown",
   "metadata": {
    "id": "ynSHgBguNCOX"
   },
   "source": [
    "_The following cell defines a visualisation function for the data._"
   ]
  },
  {
   "cell_type": "code",
   "execution_count": 67,
   "metadata": {
    "id": "B8FGvcrFNCOX"
   },
   "outputs": [],
   "source": [
    "# def fridge_sorted_bar(color='blue'):\n",
    "#     df.sort_values(0).plot.bar( color=color)"
   ]
  },
  {
   "cell_type": "markdown",
   "metadata": {
    "id": "6Tuh2nkxNCOX"
   },
   "source": [
    "###  _More code cells_\n",
    "_You can add as many code cells as you require, but it is\n",
    "recommended that you break code into relatively small chunks and\n",
    "do not exceed the maximum number of lines stated above._"
   ]
  },
  {
   "cell_type": "markdown",
   "metadata": {
    "id": "aE3SlmRANCOX"
   },
   "source": [
    "We can see that a game could be made with collaboration of different teams, hence distributing its numbers to all the involved teams."
   ]
  },
  {
   "cell_type": "code",
   "execution_count": 71,
   "metadata": {
    "id": "l8QYfa0JNCOX"
   },
   "outputs": [
    {
     "ename": "SyntaxError",
     "evalue": "invalid syntax (<unknown>, line 1)",
     "output_type": "error",
     "traceback": [
      "Traceback \u001b[1;36m(most recent call last)\u001b[0m:\n",
      "\u001b[0m  File \u001b[0;32mC:\\ProgramData\\anaconda3\\Lib\\site-packages\\IPython\\core\\interactiveshell.py:3577\u001b[0m in \u001b[0;35mrun_code\u001b[0m\n    exec(code_obj, self.user_global_ns, self.user_ns)\u001b[0m\n",
      "\u001b[0m  Cell \u001b[0;32mIn[71], line 3\u001b[0m\n    dfvg_1['Team'] = dfvg_1['Team'].apply(lambda x: ast.literal_eval(x) if isinstance(x, str) else ['Independent Developer'])\u001b[0m\n",
      "\u001b[0m  File \u001b[0;32mC:\\ProgramData\\anaconda3\\Lib\\site-packages\\pandas\\core\\series.py:4924\u001b[0m in \u001b[0;35mapply\u001b[0m\n    ).apply()\u001b[0m\n",
      "\u001b[0m  File \u001b[0;32mC:\\ProgramData\\anaconda3\\Lib\\site-packages\\pandas\\core\\apply.py:1427\u001b[0m in \u001b[0;35mapply\u001b[0m\n    return self.apply_standard()\u001b[0m\n",
      "\u001b[0m  File \u001b[0;32mC:\\ProgramData\\anaconda3\\Lib\\site-packages\\pandas\\core\\apply.py:1507\u001b[0m in \u001b[0;35mapply_standard\u001b[0m\n    mapped = obj._map_values(\u001b[0m\n",
      "\u001b[0m  File \u001b[0;32mC:\\ProgramData\\anaconda3\\Lib\\site-packages\\pandas\\core\\base.py:921\u001b[0m in \u001b[0;35m_map_values\u001b[0m\n    return algorithms.map_array(arr, mapper, na_action=na_action, convert=convert)\u001b[0m\n",
      "\u001b[0m  File \u001b[0;32mC:\\ProgramData\\anaconda3\\Lib\\site-packages\\pandas\\core\\algorithms.py:1743\u001b[0m in \u001b[0;35mmap_array\u001b[0m\n    return lib.map_infer(values, mapper, convert=convert)\u001b[0m\n",
      "\u001b[0m  File \u001b[0;32mlib.pyx:2972\u001b[0m in \u001b[0;35mpandas._libs.lib.map_infer\u001b[0m\n",
      "\u001b[0m  Cell \u001b[0;32mIn[71], line 3\u001b[0m in \u001b[0;35m<lambda>\u001b[0m\n    dfvg_1['Team'] = dfvg_1['Team'].apply(lambda x: ast.literal_eval(x) if isinstance(x, str) else ['Independent Developer'])\u001b[0m\n",
      "\u001b[0m  File \u001b[0;32mC:\\ProgramData\\anaconda3\\Lib\\ast.py:66\u001b[0m in \u001b[0;35mliteral_eval\u001b[0m\n    node_or_string = parse(node_or_string.lstrip(\" \\t\"), mode='eval')\u001b[0m\n",
      "\u001b[1;36m  File \u001b[1;32mC:\\ProgramData\\anaconda3\\Lib\\ast.py:52\u001b[1;36m in \u001b[1;35mparse\u001b[1;36m\n\u001b[1;33m    return compile(source, filename, mode, flags,\u001b[1;36m\n",
      "\u001b[1;36m  File \u001b[1;32m<unknown>:1\u001b[1;36m\u001b[0m\n\u001b[1;33m    Independent developer\u001b[0m\n\u001b[1;37m                ^\u001b[0m\n\u001b[1;31mSyntaxError\u001b[0m\u001b[1;31m:\u001b[0m invalid syntax\n"
     ]
    }
   ],
   "source": [
    "import ast\n",
    "# Convert the Team column from string to list\n",
    "dfvg_1['Team'] = dfvg_1['Team'].apply(lambda x: ast.literal_eval(x) if isinstance(x, str) else ['Independent Developer'])\n",
    "# Explode the list into multiple rows\n",
    "df_exploded = dfvg_1.explode('Team', ignore_index=True)\n",
    "df_exploded.head()"
   ]
  },
  {
   "cell_type": "markdown",
   "metadata": {
    "id": "Roe9mw_oNCOX"
   },
   "source": [
    "We need to analyze the total number of players who have played or has shown interest in any sense towards the games developed by these teams.\n"
   ]
  },
  {
   "cell_type": "markdown",
   "metadata": {
    "id": "JGP0FdA5NCOX"
   },
   "source": [
    "Here on we will only be using data having the games released in the last five years to increase the efficiency, because over time the teams keep changing their names so it becomes very difficult to track the exact numbers without having additional data of brand name change. This anonymity decrease when we are working with short term data."
   ]
  },
  {
   "cell_type": "code",
   "execution_count": 75,
   "metadata": {
    "id": "2iIMJrO-NCOY"
   },
   "outputs": [
    {
     "ename": "NameError",
     "evalue": "name 'df_exploded' is not defined",
     "output_type": "error",
     "traceback": [
      "\u001b[1;31m---------------------------------------------------------------------------\u001b[0m",
      "\u001b[1;31mNameError\u001b[0m                                 Traceback (most recent call last)",
      "Cell \u001b[1;32mIn[75], line 2\u001b[0m\n\u001b[0;32m      1\u001b[0m \u001b[38;5;66;03m# Getting the release year from release date col.\u001b[39;00m\n\u001b[1;32m----> 2\u001b[0m df_exploded[\u001b[38;5;124m'\u001b[39m\u001b[38;5;124mRelease_year\u001b[39m\u001b[38;5;124m'\u001b[39m] \u001b[38;5;241m=\u001b[39m pd\u001b[38;5;241m.\u001b[39mto_datetime(df_exploded[\u001b[38;5;124m'\u001b[39m\u001b[38;5;124mRelease Date\u001b[39m\u001b[38;5;124m'\u001b[39m], errors\u001b[38;5;241m=\u001b[39m\u001b[38;5;124m'\u001b[39m\u001b[38;5;124mcoerce\u001b[39m\u001b[38;5;124m'\u001b[39m)\u001b[38;5;241m.\u001b[39mdt\u001b[38;5;241m.\u001b[39myear\n\u001b[0;32m      4\u001b[0m df \u001b[38;5;241m=\u001b[39m pd\u001b[38;5;241m.\u001b[39mDataFrame(df_exploded)\n\u001b[0;32m      6\u001b[0m \u001b[38;5;66;03m# Filter for the last 5 years (assuming current year is 2024)\u001b[39;00m\n",
      "\u001b[1;31mNameError\u001b[0m: name 'df_exploded' is not defined"
     ]
    }
   ],
   "source": [
    "# Getting the release year from release date col.\n",
    "df_exploded['Release_year'] = pd.to_datetime(df_exploded['Release Date'], errors='coerce').dt.year\n",
    "\n",
    "df = pd.DataFrame(df_exploded)\n",
    "\n",
    "# Filter for the last 5 years (assuming current year is 2024)\n",
    "last_five_years = df[df['Release_year'] >= (2024 - 5)]"
   ]
  },
  {
   "cell_type": "code",
   "execution_count": 77,
   "metadata": {
    "id": "NG_V14Q_NCOY"
   },
   "outputs": [
    {
     "ename": "NameError",
     "evalue": "name 'last_five_years' is not defined",
     "output_type": "error",
     "traceback": [
      "\u001b[1;31m---------------------------------------------------------------------------\u001b[0m",
      "\u001b[1;31mNameError\u001b[0m                                 Traceback (most recent call last)",
      "Cell \u001b[1;32mIn[77], line 2\u001b[0m\n\u001b[0;32m      1\u001b[0m \u001b[38;5;66;03m# Count the number of instances of every team\u001b[39;00m\n\u001b[1;32m----> 2\u001b[0m team_counts \u001b[38;5;241m=\u001b[39m pd\u001b[38;5;241m.\u001b[39mSeries(\u001b[38;5;28mlist\u001b[39m(last_five_years[\u001b[38;5;124m'\u001b[39m\u001b[38;5;124mTeam\u001b[39m\u001b[38;5;124m'\u001b[39m]))\u001b[38;5;241m.\u001b[39mvalue_counts()\n\u001b[0;32m      3\u001b[0m team_counts\u001b[38;5;241m.\u001b[39mhead(\u001b[38;5;241m10\u001b[39m)\n",
      "\u001b[1;31mNameError\u001b[0m: name 'last_five_years' is not defined"
     ]
    }
   ],
   "source": [
    "# Count the number of instances of every team\n",
    "team_counts = pd.Series(list(last_five_years['Team'])).value_counts()\n",
    "team_counts.head(10)"
   ]
  },
  {
   "cell_type": "markdown",
   "metadata": {
    "id": "gMAKPSkqNCOY"
   },
   "source": [
    "We are trying to visualize top 10 teams who has released most number of games, in the past five years using seaborn data visualization library."
   ]
  },
  {
   "cell_type": "code",
   "execution_count": 80,
   "metadata": {
    "id": "ScoLTbf0NCOY"
   },
   "outputs": [
    {
     "ename": "NameError",
     "evalue": "name 'team_counts' is not defined",
     "output_type": "error",
     "traceback": [
      "\u001b[1;31m---------------------------------------------------------------------------\u001b[0m",
      "\u001b[1;31mNameError\u001b[0m                                 Traceback (most recent call last)",
      "Cell \u001b[1;32mIn[80], line 5\u001b[0m\n\u001b[0;32m      2\u001b[0m \u001b[38;5;66;03m# Visualize the top teams\u001b[39;00m\n\u001b[0;32m      3\u001b[0m fig, ax \u001b[38;5;241m=\u001b[39m plt\u001b[38;5;241m.\u001b[39msubplots(figsize\u001b[38;5;241m=\u001b[39m(\u001b[38;5;241m10\u001b[39m, \u001b[38;5;241m5\u001b[39m))\n\u001b[0;32m      4\u001b[0m sns\u001b[38;5;241m.\u001b[39mbarplot(\n\u001b[1;32m----> 5\u001b[0m     x \u001b[38;5;241m=\u001b[39m team_counts[:\u001b[38;5;241m10\u001b[39m]\u001b[38;5;241m.\u001b[39mvalues,\n\u001b[0;32m      6\u001b[0m     y \u001b[38;5;241m=\u001b[39m team_counts[:\u001b[38;5;241m10\u001b[39m]\u001b[38;5;241m.\u001b[39mindex,\n\u001b[0;32m      7\u001b[0m     palette\u001b[38;5;241m=\u001b[39m\u001b[38;5;124m'\u001b[39m\u001b[38;5;124mmuted\u001b[39m\u001b[38;5;124m'\u001b[39m\n\u001b[0;32m      8\u001b[0m )\n\u001b[0;32m      9\u001b[0m ax\u001b[38;5;241m.\u001b[39mset_title(\u001b[38;5;124m\"\u001b[39m\u001b[38;5;124mTop 10 teams (No. of games released)\u001b[39m\u001b[38;5;124m\"\u001b[39m, fontsize\u001b[38;5;241m=\u001b[39m\u001b[38;5;241m12\u001b[39m, weight\u001b[38;5;241m=\u001b[39m\u001b[38;5;124m'\u001b[39m\u001b[38;5;124mbold\u001b[39m\u001b[38;5;124m'\u001b[39m)\n\u001b[0;32m     10\u001b[0m ax\u001b[38;5;241m.\u001b[39mset_xlabel(\u001b[38;5;124m\"\u001b[39m\u001b[38;5;124mTeam\u001b[39m\u001b[38;5;124m\"\u001b[39m, fontsize\u001b[38;5;241m=\u001b[39m\u001b[38;5;241m8\u001b[39m)\n",
      "\u001b[1;31mNameError\u001b[0m: name 'team_counts' is not defined"
     ]
    },
    {
     "data": {
      "image/png": "[encoded data removed]",
      "text/plain": [
       "<Figure size 1000x500 with 1 Axes>"
      ]
     },
     "metadata": {},
     "output_type": "display_data"
    }
   ],
   "source": [
    "import seaborn as sns\n",
    "# Visualize the top teams\n",
    "fig, ax = plt.subplots(figsize=(10, 5))\n",
    "sns.barplot(\n",
    "    x = team_counts[:10].values,\n",
    "    y = team_counts[:10].index,\n",
    "    palette='muted'\n",
    ")\n",
    "ax.set_title(\"Top 10 teams (No. of games released)\", fontsize=12, weight='bold')\n",
    "ax.set_xlabel(\"Team\", fontsize=8)\n",
    "ax.set_ylabel(\"Total Players\", fontsize=8)\n",
    "\n",
    "# Add labels to show the participation of each team\n",
    "for i, v in enumerate(team_counts[:10].values):\n",
    "    ax.text(v, i, str(round(v / len(last_five_years) * 100, 2)) + ' %', color=\"black\", ha=\"left\", va=\"center\", fontsize=8, weight='bold')\n",
    "ax.set_xlim(right = max(team_counts.values) * 1.1)\n",
    "sns.despine(right = True, top = True)\n",
    "plt.show()"
   ]
  },
  {
   "cell_type": "markdown",
   "metadata": {
    "id": "DSkJzcXJNCOY"
   },
   "source": [
    "Every game developed get some rating from the community which is averaged out in `\"Rating\"` column.\n",
    "\n",
    "Here we are trying to find out the team with highest average rating of all the games developed by them."
   ]
  },
  {
   "cell_type": "code",
   "execution_count": 83,
   "metadata": {
    "id": "Yrn7abyCNCOY"
   },
   "outputs": [
    {
     "ename": "NameError",
     "evalue": "name 'last_five_years' is not defined",
     "output_type": "error",
     "traceback": [
      "\u001b[1;31m---------------------------------------------------------------------------\u001b[0m",
      "\u001b[1;31mNameError\u001b[0m                                 Traceback (most recent call last)",
      "Cell \u001b[1;32mIn[83], line 2\u001b[0m\n\u001b[0;32m      1\u001b[0m \u001b[38;5;66;03m# Calculate the average ratings for each team\u001b[39;00m\n\u001b[1;32m----> 2\u001b[0m team_avg_ratings \u001b[38;5;241m=\u001b[39m last_five_years\u001b[38;5;241m.\u001b[39mgroupby(\u001b[38;5;124m'\u001b[39m\u001b[38;5;124mTeam\u001b[39m\u001b[38;5;124m'\u001b[39m)[\u001b[38;5;124m'\u001b[39m\u001b[38;5;124mRating\u001b[39m\u001b[38;5;124m'\u001b[39m]\u001b[38;5;241m.\u001b[39mmean()\u001b[38;5;241m.\u001b[39msort_values(ascending\u001b[38;5;241m=\u001b[39m\u001b[38;5;28;01mFalse\u001b[39;00m)\u001b[38;5;241m.\u001b[39mhead(\u001b[38;5;241m10\u001b[39m)\n\u001b[0;32m      4\u001b[0m \u001b[38;5;66;03m# Visualize the average ratings by team\u001b[39;00m\n\u001b[0;32m      5\u001b[0m fig, ax \u001b[38;5;241m=\u001b[39m plt\u001b[38;5;241m.\u001b[39msubplots(figsize\u001b[38;5;241m=\u001b[39m(\u001b[38;5;241m10\u001b[39m, \u001b[38;5;241m5\u001b[39m))\n",
      "\u001b[1;31mNameError\u001b[0m: name 'last_five_years' is not defined"
     ]
    }
   ],
   "source": [
    "# Calculate the average ratings for each team\n",
    "team_avg_ratings = last_five_years.groupby('Team')['Rating'].mean().sort_values(ascending=False).head(10)\n",
    "\n",
    "# Visualize the average ratings by team\n",
    "fig, ax = plt.subplots(figsize=(10, 5))\n",
    "sns.barplot(\n",
    "    x = team_avg_ratings[:25].values,\n",
    "    y = team_avg_ratings[:25].index,\n",
    "    palette='muted'\n",
    ")\n",
    "ax.set_title(\"Average Ratings by Team\", fontsize=12, weight='bold')\n",
    "ax.set_xlabel(\"Team\", fontsize=8)\n",
    "ax.set_ylabel(\"Total Players\", fontsize=8)\n",
    "\n",
    "# Add labels to show the average rating for each team\n",
    "for i, v in enumerate(team_avg_ratings[:25].values):\n",
    "    ax.text(v, i, str(round(v, 2)), color=\"black\", ha=\"left\", va=\"center\", fontsize=8, weight='bold')\n",
    "ax.set_xlim(right=max(team_avg_ratings.values) * 1.1)\n",
    "sns.despine(right=True, top=True)\n",
    "plt.show()"
   ]
  },
  {
   "cell_type": "markdown",
   "metadata": {
    "id": "5PpWH33ONCOY"
   },
   "source": [
    "Using the given dataset we will analyze how much attention, the game has managed to get through the people count. Which includes:\n",
    "- Number of users that have played the game before.\n",
    "- Number of current users who are playing the game.\n",
    "- Number of users who have access but haven't started with the game yet.\n",
    "- Number of users who wish to play the game.\n",
    "\n",
    "This function calculates and visualize the success of a team in terms of its average users per game over the past 5 years."
   ]
  },
  {
   "cell_type": "code",
   "execution_count": 86,
   "metadata": {
    "id": "yw2bvhRpNCOY"
   },
   "outputs": [],
   "source": [
    "def calculate_user_distribution(dataset):\n",
    "    # Total_players col combines the number of players in these 4 categories (Plays, Playing, Backlogs, Wishlist)\n",
    "    dataset['Total_players'] = dataset[['Plays', 'Playing', 'Backlogs', 'Wishlist']].sum(axis=1)\n",
    "\n",
    "    # Aggregate total players by team\n",
    "    top_teams = (\n",
    "        dataset.groupby('Team', as_index=False)['Total_players']\n",
    "        .mean()\n",
    "        .sort_values(by='Total_players', ascending=False)\n",
    "        .head(10)\n",
    "    )\n",
    "\n",
    "    # Plot the teams with the highest total players\n",
    "    fig, ax = plt.subplots(figsize=(10, 5))\n",
    "\n",
    "    sns.barplot(\n",
    "        data = top_teams,\n",
    "        x = 'Total_players',\n",
    "        y = 'Team',\n",
    "        palette = 'muted',\n",
    "        # ax = ax\n",
    "    )\n",
    "\n",
    "    # Customize the plot\n",
    "    ax.set_title(\"Top 5 Teams with the Highest Average Players (Last 10 Years)\", fontsize=12, weight='bold')\n",
    "    ax.set_xlabel(\"Total Players\", fontsize=8)\n",
    "    ax.set_ylabel(\"Team\", fontsize=8)\n",
    "    sns.despine(right=True, top=True)\n",
    "\n",
    "    plt.tight_layout()\n",
    "    plt.show()"
   ]
  },
  {
   "cell_type": "markdown",
   "metadata": {
    "id": "PKCVG0gqNCOY"
   },
   "source": []
  },
  {
   "cell_type": "markdown",
   "metadata": {
    "id": "bLlGfNmSNCOY"
   },
   "source": [
    "# Project Outcome (10 + 10 marks)\n",
    "\n",
    "_This section should describe the outcome of the project by means of both explanation of the results and by graphical visualisation in the form of graphs, charts or or other kinds of diagram_\n",
    "\n",
    "_The section should begin with a general overview of the results and then have a section for each of the project objectives. For each of these objectives an explanation of more specific results relating to that objective shoud be given, followed by a section presenting some visualisation of the results obtained. (In the case where\n",
    "the project had just one objective, you should still have a section describing\n",
    "the results from a general perspective followed by a section that focuses on\n",
    "the particular objective.)_\n",
    "\n",
    "_The marks for this section will be divided into 10 marks for Explanation\n",
    "and 10 marks for Visualisation. These marks will be awarded for the Project Outcome\n",
    "section as a whole, not for each objective individually. Hence, you do not\n",
    "have to pay equal attention to each. However, you are expected to have a\n",
    "some explanation and visualisation for each. It is suggested you have\n",
    "200-400 words explanation for each objective._"
   ]
  },
  {
   "cell_type": "markdown",
   "metadata": {
    "id": "0z7OnysANCOZ"
   },
   "source": [
    "## Overview of Results\n",
    "_Give a general overview of the results (around 200 words)._"
   ]
  },
  {
   "cell_type": "markdown",
   "metadata": {
    "id": "8zsuxTrRNCOZ"
   },
   "source": [
    "## Objective 1\n",
    "\n",
    "### Explanation of Results\n",
    "\n",
    "_200-400 words_\n",
    "\n",
    "### Visualisation\n",
    "_The following bar chart gives a vivid representation of the distribution\n",
    "of fridge magnet types, in which the dominance of 'meme' type magnets\n",
    "is dramatically illustrated._"
   ]
  },
  {
   "cell_type": "code",
   "execution_count": 92,
   "metadata": {
    "id": "ROKXPnyHNCOZ",
    "outputId": "3e992134-1628-4906-8dce-6c3c1649b64b"
   },
   "outputs": [],
   "source": [
    "# fridge_sorted_bar(color='red')"
   ]
  },
  {
   "cell_type": "markdown",
   "metadata": {
    "id": "W1MtbJxVNCOZ"
   },
   "source": [
    "## Objective 2\n",
    "### Explanation of Results\n",
    "- Analysis from the Above Charts:\n",
    "    - `Top Teams by Number of Games` released clearly shows that big players like `Nintendo`, `Square Enix` and `Sony Interactive Entertainment` has the most number of games released. This could be because of many reasons like:\n",
    "        - Having a bigger team and budget.\n",
    "        - More market experience and user data.\n",
    "        - Higher number of marketing and developing collaborations.\n",
    "- Top Teams by Total Players:\n",
    "    - Teams with the highest total players per game over the last 10 years demonstrate their ability to attract large player bases. These teams likely released highly popular games or consistently engaged their audience during this period.\n",
    "    For instance, teams like `Nintendo EPD Production Group No. 3` and `Rockstar Games` might have achieved their positions due to successful franchises (e.g., Zelda or Grand Theft Auto V).\n",
    "    - Teams with sustained performance across all these years demonstrate strong branding and a loyal fan base.\n",
    "- Insights for Decision-Making:\n",
    "    - Teams with higher number of games can be studied for their productivity and collaboration strategies.\n",
    "    - Teams with high total players should be studied for their marketing strategies and game quality.\n",
    "    - These can be helpful for the new developers in this field to choose the type of games and teams they could work with for a successfull career.\n",
    "    - These findings can guide decisions for game developers, marketing teams, and publishers to understand audience engagement, identify successful trends, and plan future releases strategically."
   ]
  },
  {
   "cell_type": "markdown",
   "metadata": {
    "id": "gIvVa3aNNCOZ"
   },
   "source": [
    "### Visualization"
   ]
  },
  {
   "cell_type": "code",
   "execution_count": 96,
   "metadata": {
    "id": "shWlT_fWNCOZ"
   },
   "outputs": [
    {
     "ename": "NameError",
     "evalue": "name 'last_five_years' is not defined",
     "output_type": "error",
     "traceback": [
      "\u001b[1;31m---------------------------------------------------------------------------\u001b[0m",
      "\u001b[1;31mNameError\u001b[0m                                 Traceback (most recent call last)",
      "Cell \u001b[1;32mIn[96], line 1\u001b[0m\n\u001b[1;32m----> 1\u001b[0m calculate_user_distribution(last_five_years)\n",
      "\u001b[1;31mNameError\u001b[0m: name 'last_five_years' is not defined"
     ]
    }
   ],
   "source": [
    "calculate_user_distribution(last_five_years)"
   ]
  },
  {
   "cell_type": "markdown",
   "metadata": {
    "id": "onnCmJdzNCOZ"
   },
   "source": [
    "## Objective 3\n",
    "### Explanation of Results\n",
    "\n",
    "200-400 Words\n",
    "\n",
    "### Visualisation"
   ]
  },
  {
   "cell_type": "markdown",
   "metadata": {
    "id": "XhrV-E0vNCOZ"
   },
   "source": [
    "## Objective 4\n",
    "\n",
    "The objective of this analysis is to determine which game is more likely to be successful in the near future. Success is measured by considering three key variables: Rating, Playing, and Wishlist. By analyzing these variables, we aim to identify games that show potential for future success based on their current popularity, user engagement, and demand.\n",
    "\n",
    "Importance of Variables:\n",
    "Rating: This variable reflects the quality and user satisfaction of the game. High ratings indicate positive feedback from players and suggest that the game meets or exceeds player expectations in terms of gameplay, graphics, story, and overall experience.\n",
    "\n",
    "Playing: This variable represents the current active player base. A higher number of players indicates strong engagement and continued interest in the game, which is crucial for its ongoing success.\n",
    "\n",
    "Wishlist: This variable shows the demand and anticipation for the game. A higher number of wishlists indicates that many players are interested in purchasing or playing the game in the future, suggesting potential for increased sales and growth.\n",
    "\n",
    "Code Description:\n",
    "The provided code performs the following tasks:\n",
    "a)Load and Clean Data:\n",
    "b)The games.csv file is loaded into a DataFrame.\n",
    "c)Duplicate rows are removed to ensure data accuracy.\n",
    "\n",
    "Select Top Games:\n",
    "The top 10 games are selected based on the Playing variable to focus on the most actively played games.\n",
    "\n",
    "Create Clustered Bar Chart:\n",
    "a)A clustered bar chart is created to compare the Playing and Wishlist variables for the top 10 games.\n",
    "b)The x-axis represents game titles, while the y-axis represents the values of the Playing and Wishlist variables.\n",
    "c)The bar chart visually compares the number of active players and the demand (wishlist) for each game.\n",
    "\n",
    "\n",
    "### Visualisation"
   ]
  },
  {
   "cell_type": "code",
   "execution_count": 111,
   "metadata": {},
   "outputs": [
    {
     "data": {
      "image/png": "[encoded data removed]",
      "text/plain": [
       "<Figure size 1500x1000 with 1 Axes>"
      ]
     },
     "metadata": {},
     "output_type": "display_data"
    }
   ],
   "source": [
    "try:\n",
    "    # Selecting the top 10 entries by 'Playing'\n",
    "    dfvg_1_top10 = dfvg_1.nlargest(10, 'Playing')\n",
    "\n",
    "    # Setting up the figure and axis\n",
    "    fig, ax = plt.subplots(figsize=(15, 10))\n",
    "\n",
    "    # Defining the bar width\n",
    "    bar_width = 0.4\n",
    "\n",
    "    # Setting the positions of the bars on the x-axis\n",
    "    bar_positions = np.arange(len(dfvg_1_top10))\n",
    "\n",
    "    # Plotting the 'Playing' bars\n",
    "    bars1 = ax.bar(bar_positions - bar_width/2, dfvg_1_top10['Playing'], bar_width, label='Playing')\n",
    "\n",
    "    # Plotting the 'Wishlist' bars\n",
    "    bars2 = ax.bar(bar_positions + bar_width/2, dfvg_1_top10['Wishlist'], bar_width, label='Wishlist')\n",
    "\n",
    "    # Adding labels to the bars\n",
    "    ax.set_xlabel('Game Titles')\n",
    "    ax.set_ylabel('Values')\n",
    "    ax.set_title('Clustered Bar Chart of Top 10 Game Playing and Wishlist')\n",
    "    ax.set_xticks(bar_positions)\n",
    "    ax.set_xticklabels(dfvg_1_top10['Title'], rotation=45, ha='right')\n",
    "    ax.legend()\n",
    "\n",
    "    # Displaying the plot\n",
    "    plt.tight_layout()\n",
    "    plt.savefig('clustered_bar_chart.png')\n",
    "    plt.show()\n",
    "\n",
    "except FileNotFoundError:\n",
    "    print(f\"Error: The file '{file_path}' was not found.\")\n",
    "except pd.errors.EmptyDataError:\n",
    "    print(\"Error: The file is empty.\")\n",
    "except pd.errors.ParserError:\n",
    "    print(\"Error: There was a problem parsing the file.\")\n",
    "except Exception as e:\n",
    "    print(f\"An unexpected error occurred: {e}\")"
   ]
  },
  {
   "cell_type": "markdown",
   "metadata": {},
   "source": [
    "### Explanation of Results:\n",
    "\n",
    "By analyzing the variables Rating, Playing, and Wishlist, we can make informed predictions about which games are likely to succeed in the near future. High ratings are a testament to the game's quality, reflecting positive user feedback and satisfaction across various aspects such as gameplay, story, graphics, and overall enjoyment. This high level of satisfaction often leads to word-of-mouth promotion, further boosting the game's reputation. The number of active players, represented by the Playing variable, is crucial for understanding current popularity. A large active player base indicates that the game maintains player engagement over time, which is essential for its longevity and continuous revenue generation through in-game purchases and subscriptions. Furthermore, a high Wishlist count reveals the potential future demand for the game. Players who add a game to their wishlist are expressing a strong interest in purchasing or playing it in the future, indicating a ready market once the game is on sale or fully released. The clustered bar chart provides a visual comparison of these variables, making it easier to identify which games are performing well across all three metrics. By analyzing these combined factors, stakeholders can make data-driven decisions to enhance marketing strategies, content updates, and overall game development, ultimately steering the game towards future success."
   ]
  },
  {
   "cell_type": "markdown",
   "metadata": {
    "id": "v7tFrTYmNCOZ"
   },
   "source": [
    "# Conclusion (5 marks)\n",
    "\n",
    "_Your concluding section should be around 200-400 words. It is recommended\n",
    "that you divide it into the following sections._\n",
    "\n",
    "### Achievements\n",
    "_As we had expected, the most popular fridge magnets were of the 'meme' kind.\n",
    "We were surprised that 'smiley' fridge magnets were less common than expected.\n",
    "We conjecture that this is because, although they are apparently very popular,\n",
    "few fridges display more than one smiley. However, 'meme' based magnets can\n",
    "be found in large numbers, even on quite small fridges._\n",
    "\n",
    "### Limitations\n",
    "\n",
    "The major limitation for any data analysis is the availability of data. We are always constricted by the amount of data that we have. There is a variability involved in the objectives undertaken in the project. As seen in our objectives, we can very easily point out that the analysis could have been more detailed and precise if we could inculcate more aspects of the Games that we had listed. For example, a game is not just metrics, it has a vast dimension that goes untouched by many analysts and that is the overall appeal, the graphics and the storyline of the game. These three variables are highly dependant on the person playing the game. A storyline may seem appealing to one player due to a resemblance it has to the player's past or might be the opposite if the player sees no connection to it. In the same way, the graphics of the game are highly dependant on the player, a player who has an innovative mindset and a thirst for art and perfection might look at games such as elden ring, wukong-black myth and prioritise it over others even if they lack in other aspects, the same is true when conditions are reversed, there are people who actually adore the minimalistic graphic design of minecraft. In all we can never overlook the fact that there is always going to be a scarcity of data even if we think we have ample of it. The personalisation part of the human nature cannot be ignored as it effects the metrics in a very random manner.\n",
    "\n",
    "### Future Work\n",
    "\n",
    "_In future work we would like to obtain more diverse data and study fridge magnets\n",
    "beyond the limited confines of student accomodation. We hypothesise that there\n",
    "could be a link between fridge magnet types and social class and/or educational\n",
    "achievement._"
   ]
  },
  {
   "cell_type": "code",
   "execution_count": null,
   "metadata": {},
   "outputs": [],
   "source": []
  }
 ],
 "metadata": {
  "colab": {
   "provenance": []
  },
  "kernelspec": {
   "display_name": "Python 3 (ipykernel)",
   "language": "python",
   "name": "python3"
  },
  "language_info": {
   "codemirror_mode": {
    "name": "ipython",
    "version": 3
   },
   "file_extension": ".py",
   "mimetype": "text/x-python",
   "name": "python",
   "nbconvert_exporter": "python",
   "pygments_lexer": "ipython3",
   "version": "3.12.3"
  }
 },
 "nbformat": 4,
 "nbformat_minor": 4
}
